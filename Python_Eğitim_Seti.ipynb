{
  "cells": [
    {
      "cell_type": "markdown",
      "metadata": {
        "id": "view-in-github",
        "colab_type": "text"
      },
      "source": [
        "<a href=\"https://colab.research.google.com/github/toygar77/git-repo/blob/main/Python_E%C4%9Fitim_Seti.ipynb\" target=\"_parent\"><img src=\"https://colab.research.google.com/assets/colab-badge.svg\" alt=\"Open In Colab\"/></a>"
      ]
    },
    {
      "cell_type": "markdown",
      "source": [
        "**Python Eğitim Seti**"
      ],
      "metadata": {
        "id": "HaQqdZ9X_G2E"
      },
      "id": "HaQqdZ9X_G2E"
    },
    {
      "cell_type": "code",
      "execution_count": null,
      "id": "c98b8818",
      "metadata": {
        "id": "c98b8818",
        "outputId": "12627587-416c-49f4-e0a5-1cbc9c9d5ac8",
        "colab": {
          "base_uri": "https://localhost:8080/"
        }
      },
      "outputs": [
        {
          "output_type": "stream",
          "name": "stdout",
          "text": [
            "1 2 3 4 5 6 7 8 9 "
          ]
        }
      ],
      "source": [
        "for i in range(1,10):\n",
        "    print(i,end=\" \") # bişey yazmasan varsayılan olarak enter algılıyor"
      ]
    },
    {
      "cell_type": "code",
      "execution_count": null,
      "id": "2feab491",
      "metadata": {
        "id": "2feab491",
        "outputId": "0d3ff976-3402-45c3-f582-9e116febd5b4"
      },
      "outputs": [
        {
          "name": "stdout",
          "output_type": "stream",
          "text": [
            "John is 23 years old.\n",
            "John is 23 years old.\n"
          ]
        }
      ],
      "source": [
        "name='John'\n",
        "age=23\n",
        "print(\"{} is {} years old.\".format(name,age))\n",
        "print(f\"{name} is {age} years old.\") #f-string"
      ]
    },
    {
      "cell_type": "code",
      "execution_count": null,
      "id": "17b407a3",
      "metadata": {
        "scrolled": true,
        "id": "17b407a3",
        "outputId": "7d690142-de10-467b-dcfc-23335f1b56b5"
      },
      "outputs": [
        {
          "name": "stdout",
          "output_type": "stream",
          "text": [
            "['red', 'yellow', 'blue', ['white', 'black']]\n"
          ]
        }
      ],
      "source": [
        "colors1=['red','yellow','blue']\n",
        "colors2=['white','black']\n",
        "colors1.append(colors2)\n",
        "print(colors1)"
      ]
    },
    {
      "cell_type": "code",
      "execution_count": null,
      "id": "fc1854b7",
      "metadata": {
        "id": "fc1854b7",
        "outputId": "74d56dd0-a356-4258-ee63-55effeffb2cd"
      },
      "outputs": [
        {
          "name": "stdout",
          "output_type": "stream",
          "text": [
            "['red', 'yellow', 'blue', 'white', 'black']\n"
          ]
        }
      ],
      "source": [
        "colors1=['red','yellow','blue']\n",
        "colors2=['white','black']\n",
        "colors1.extend(colors2)\n",
        "print(colors1)"
      ]
    },
    {
      "cell_type": "code",
      "execution_count": null,
      "id": "e1b9e195",
      "metadata": {
        "id": "e1b9e195",
        "outputId": "b4730309-ae6a-4b20-8d6a-26876ff18cc9",
        "colab": {
          "base_uri": "https://localhost:8080/"
        }
      },
      "outputs": [
        {
          "output_type": "stream",
          "name": "stdout",
          "text": [
            "red--yellow--blue\n",
            "<class 'str'>\n",
            "['red', 'yellow', 'blue']\n"
          ]
        }
      ],
      "source": [
        "colors=['red','yellow','blue']\n",
        "newcolors=\"--\".join(colors)\n",
        "print(newcolors)\n",
        "print(type(newcolors))\n",
        "newcolors2=newcolors.split(\"--\")\n",
        "print(newcolors2)"
      ]
    },
    {
      "cell_type": "code",
      "execution_count": null,
      "id": "2bc7b4f0",
      "metadata": {
        "scrolled": true,
        "id": "2bc7b4f0",
        "outputId": "41ea37ec-2d3e-41d7-f90c-c60959939cc9",
        "colab": {
          "base_uri": "https://localhost:8080/"
        }
      },
      "outputs": [
        {
          "output_type": "stream",
          "name": "stdout",
          "text": [
            "['red', 'yellow', 'blue', 'white']\n",
            "['white', 'blue', 'yellow', 'red']\n",
            "['blue', 'red', 'white', 'yellow']\n",
            "['yellow', 'white', 'red', 'blue']\n"
          ]
        }
      ],
      "source": [
        "colors=['red','yellow','blue','white','black']\n",
        "colors.pop()\n",
        "print(colors)\n",
        "colors.reverse()\n",
        "print(colors)\n",
        "\n",
        "colors.sort()\n",
        "print(colors)\n",
        "colors.sort(reverse=True)\n",
        "print(colors)"
      ]
    },
    {
      "cell_type": "code",
      "execution_count": null,
      "id": "3ec4ee11",
      "metadata": {
        "id": "3ec4ee11",
        "outputId": "6d225cc2-8c49-41b9-c076-42e1da5c17e1"
      },
      "outputs": [
        {
          "name": "stdout",
          "output_type": "stream",
          "text": [
            "3 65 147\n"
          ]
        }
      ],
      "source": [
        "numbers=[3,4,65,32,5,6,25,7]\n",
        "print(min(numbers),max(numbers),sum(numbers))"
      ]
    },
    {
      "cell_type": "code",
      "execution_count": null,
      "id": "b9c20ccf",
      "metadata": {
        "id": "b9c20ccf",
        "outputId": "d6b1df97-f792-4b00-e2bf-a40620015889"
      },
      "outputs": [
        {
          "name": "stdout",
          "output_type": "stream",
          "text": [
            "[(0, 'red'), (1, 'yellow'), (2, 'blue'), (3, 'white'), (4, 'black')]\n",
            "[(3, 'red'), (4, 'yellow'), (5, 'blue'), (6, 'white'), (7, 'black')]\n"
          ]
        }
      ],
      "source": [
        "colors=['red','yellow','blue','white','black']\n",
        "print(list(enumerate(colors))) # numaralandırıyor\n",
        "print(list(enumerate(colors,start=3)))"
      ]
    },
    {
      "cell_type": "code",
      "execution_count": null,
      "id": "7c66ae13",
      "metadata": {
        "id": "7c66ae13",
        "outputId": "9133b25a-455b-4784-f101-8d5de65e5792"
      },
      "outputs": [
        {
          "name": "stdout",
          "output_type": "stream",
          "text": [
            "True\n"
          ]
        }
      ],
      "source": [
        "colors=['red','yellow','blue','white','black']\n",
        "print('black' in colors)"
      ]
    },
    {
      "cell_type": "code",
      "execution_count": null,
      "id": "0f54389a",
      "metadata": {
        "scrolled": true,
        "id": "0f54389a",
        "outputId": "60848587-9c4c-42aa-b69c-07e274a5827f",
        "colab": {
          "base_uri": "https://localhost:8080/",
          "height": 176
        }
      },
      "outputs": [
        {
          "output_type": "error",
          "ename": "TypeError",
          "evalue": "'tuple' object does not support item assignment",
          "traceback": [
            "\u001b[0;31m---------------------------------------------------------------------------\u001b[0m",
            "\u001b[0;31mTypeError\u001b[0m                                 Traceback (most recent call last)",
            "\u001b[0;32m<ipython-input-5-1938c2038bcb>\u001b[0m in \u001b[0;36m<cell line: 4>\u001b[0;34m()\u001b[0m\n\u001b[1;32m      2\u001b[0m \u001b[0;31m# Listeyi değiştiren komutlar demetlerde yok.\u001b[0m\u001b[0;34m\u001b[0m\u001b[0;34m\u001b[0m\u001b[0m\n\u001b[1;32m      3\u001b[0m \u001b[0mdemet\u001b[0m\u001b[0;34m=\u001b[0m\u001b[0;34m(\u001b[0m\u001b[0;34m\"sarı\"\u001b[0m\u001b[0;34m,\u001b[0m\u001b[0;34m\"kırmızı\"\u001b[0m\u001b[0;34m)\u001b[0m\u001b[0;34m\u001b[0m\u001b[0;34m\u001b[0m\u001b[0m\n\u001b[0;32m----> 4\u001b[0;31m \u001b[0mdemet\u001b[0m\u001b[0;34m[\u001b[0m\u001b[0;36m1\u001b[0m\u001b[0;34m]\u001b[0m\u001b[0;34m=\u001b[0m\u001b[0;34m'pembe'\u001b[0m\u001b[0;34m\u001b[0m\u001b[0;34m\u001b[0m\u001b[0m\n\u001b[0m",
            "\u001b[0;31mTypeError\u001b[0m: 'tuple' object does not support item assignment"
          ]
        }
      ],
      "source": [
        "# Tuple (demet) nesne ekleyip çıkarmayı desteklemez. Nasıl oluşturulduysa öyle kalır.\n",
        "# Listeyi değiştiren komutlar demetlerde yok.\n",
        "demet=(\"sarı\",\"kırmızı\")\n",
        "demet[1]='pembe'"
      ]
    },
    {
      "cell_type": "code",
      "execution_count": null,
      "id": "089d8e35",
      "metadata": {
        "scrolled": true,
        "id": "089d8e35",
        "outputId": "7142f624-402a-4f32-9d46-b5ee8dd7815e"
      },
      "outputs": [
        {
          "name": "stdout",
          "output_type": "stream",
          "text": [
            "<class 'set'>\n",
            "{'mavi', 'kırmızı', 'pembe', 'yeşil'}\n"
          ]
        }
      ],
      "source": [
        "# Set (küme)\n",
        "# kümeler sırasız bir veri yapısıdır. Kümeye elemanları hangi sırayla eklediğinin önemi yok.\n",
        "kume={'sarı','kırmızı','mavi','yeşil'}\n",
        "print(type(kume))\n",
        "kume.remove('sarı')\n",
        "#kume.remove('gri') # kümede olmadığı için hata verir.\n",
        "kume.discard('gri') # kümede varsa çıkarır, yoksa da hata vermez.\n",
        "kume.add('pembe')\n",
        "print(kume)"
      ]
    },
    {
      "cell_type": "code",
      "execution_count": null,
      "id": "5c1467cd",
      "metadata": {
        "id": "5c1467cd",
        "outputId": "faf17a42-4d80-4373-982d-05af1be7724b"
      },
      "outputs": [
        {
          "name": "stdout",
          "output_type": "stream",
          "text": [
            "{'kırmızı', 'sarı'}\n",
            "{'sarı', 'mavi', 'kırmızı', 'yeşil', 'gri', 'beyaz'}\n",
            "{'yeşil', 'mavi'}\n",
            "True\n"
          ]
        }
      ],
      "source": [
        "kume1={'sarı','kırmızı','mavi','yeşil'}\n",
        "kume2={'sarı','kırmızı','beyaz','gri'}\n",
        "print(kume1.intersection(kume2))\n",
        "print(kume1.union(kume2))\n",
        "print(kume1.difference(kume2))\n",
        "print(\"sarı\" in kume1)"
      ]
    },
    {
      "cell_type": "code",
      "execution_count": null,
      "id": "7ecff51a",
      "metadata": {
        "scrolled": true,
        "id": "7ecff51a",
        "outputId": "1609bab3-56b1-46b9-c32f-b4939ace0a2b"
      },
      "outputs": [
        {
          "name": "stdout",
          "output_type": "stream",
          "text": [
            "{'p', 't', 'o', 'n', 'h', 'y'}\n",
            "{1, 2, 3, 4, 5}\n"
          ]
        }
      ],
      "source": [
        "bosliste1=[]\n",
        "bosliste2=list()\n",
        "\n",
        "bosdemet1=()\n",
        "bosdemet2=tuple()\n",
        "\n",
        "boskume=set()\n",
        "dictionary={} # bu kullanım küme değil, sözlük verir.\n",
        "\n",
        "kume1=set(\"python\") #set içeriği parçalayarak kümeye çevirir.\n",
        "kume2=set([1,2,3,4,5])\n",
        "print(kume1)\n",
        "print(kume2)"
      ]
    },
    {
      "cell_type": "code",
      "execution_count": null,
      "id": "f2ab9d19",
      "metadata": {
        "scrolled": true,
        "id": "f2ab9d19",
        "outputId": "6f3eaa42-4f5d-4c62-c216-2671421de0e2"
      },
      "outputs": [
        {
          "name": "stdout",
          "output_type": "stream",
          "text": [
            "ali\n",
            "ahmet\n",
            "{'isim': 'mehmet', 'yas': 30, 'hobiler': ['sinema', 'konser'], 'id': 1572}\n",
            "{'isim': 'mehmet', 'yas': 30, 'hobiler': ['sinema', 'konser']}\n"
          ]
        }
      ],
      "source": [
        "kisi={\"isim\":\"ali\",\"yas\":20,\"hobiler\":[\"sinema\",\"konser\"]}\n",
        "#key (anahtar) string veya integer olmalı\n",
        "#value (değer) her şey olabilir (string, dict,küme,..)\n",
        "print(kisi[\"isim\"])\n",
        "kisi[\"isim\"]=\"ahmet\" #bir anahtarı güncelllemek için\n",
        "print(kisi[\"isim\"])\n",
        "\n",
        "kisi.update({\"isim\":\"mehmet\",\"yas\":30}) #aynı anda birden fazla anahtarı güncellemek için\n",
        "\n",
        "kisi[\"id\"]=1572 #yeni anahtar eklemek\n",
        "print(kisi)\n",
        "del kisi[\"id\"] #değer silmek\n",
        "print(kisi)"
      ]
    },
    {
      "cell_type": "code",
      "execution_count": null,
      "id": "439f82c3",
      "metadata": {
        "id": "439f82c3",
        "outputId": "5acafc27-0005-4aae-9ff8-349d1e74a45f"
      },
      "outputs": [
        {
          "name": "stdout",
          "output_type": "stream",
          "text": [
            "isim\n",
            "yas\n",
            "hobiler\n",
            "\n",
            "ali\n",
            "20\n",
            "['sinema', 'konser']\n",
            "\n",
            "isim ali\n",
            "yas 20\n",
            "hobiler ['sinema', 'konser']\n",
            "\n",
            "dict_keys(['isim', 'yas', 'hobiler'])\n",
            "dict_values(['ali', 20, ['sinema', 'konser']])\n",
            "dict_items([('isim', 'ali'), ('yas', 20), ('hobiler', ['sinema', 'konser'])])\n"
          ]
        }
      ],
      "source": [
        "kisi={\"isim\":\"ali\",\"yas\":20,\"hobiler\":[\"sinema\",\"konser\"]}\n",
        "for x in kisi:\n",
        "    print (x)\n",
        "print(\"\")\n",
        "\n",
        "for x in kisi:\n",
        "    print(kisi[x])\n",
        "print(\"\")\n",
        "\n",
        "for k,v in kisi.items(): #items ikili değer döndürür\n",
        "    print(k,v)\n",
        "print(\"\")\n",
        "\n",
        "print(kisi.keys())\n",
        "print(kisi.values())\n",
        "print(kisi.items())"
      ]
    },
    {
      "cell_type": "code",
      "execution_count": null,
      "id": "9d14e4b1",
      "metadata": {
        "scrolled": true,
        "id": "9d14e4b1",
        "outputId": "6a480d09-8cb2-403b-e9c8-d3e1e367d5e7"
      },
      "outputs": [
        {
          "name": "stdout",
          "output_type": "stream",
          "text": [
            "None\n",
            "Bulunamadı\n"
          ]
        }
      ],
      "source": [
        "kisi={\"isim\":\"ali\",\"yas\":20,\"hobiler\":[\"sinema\",\"konser\"]}\n",
        " # print(kisi[\"id\"]) #id bulunmadığı için hata verir.\n",
        "print(kisi.get(\"id\")) # farkı eleman yoksa None değer göstermesi\n",
        "print(kisi.get(\"id\",\"Bulunamadı\")) #ikinci parametre aradığım değer yoksa vermek istediğim mesaj"
      ]
    },
    {
      "cell_type": "code",
      "execution_count": null,
      "id": "e8b1fbce",
      "metadata": {
        "scrolled": true,
        "id": "e8b1fbce",
        "outputId": "da9c877e-9db2-4a0f-dc82-b157c2f30f5e"
      },
      "outputs": [
        {
          "name": "stdout",
          "output_type": "stream",
          "text": [
            "2\n",
            "4\n"
          ]
        }
      ],
      "source": [
        "for i in range(2,10):\n",
        "    if i == 3:\n",
        "        continue\n",
        "    if i == 5:\n",
        "        break\n",
        "    print(i)"
      ]
    },
    {
      "cell_type": "code",
      "execution_count": null,
      "id": "30189a29",
      "metadata": {
        "scrolled": true,
        "id": "30189a29",
        "outputId": "a8b8d650-d2ab-445f-8eb9-641c83e53f82"
      },
      "outputs": [
        {
          "name": "stdout",
          "output_type": "stream",
          "text": [
            "Bir sayı giriniz: 5\n",
            "5! = 120\n"
          ]
        }
      ],
      "source": [
        "sayi=int(input(\"Bir sayı giriniz: \"))\n",
        "faktoriyel=1\n",
        "for i in range(1,sayi+1):\n",
        "    faktoriyel*=i\n",
        "print(f\"{sayi}! = {faktoriyel}\")"
      ]
    },
    {
      "cell_type": "code",
      "execution_count": null,
      "id": "a3a4bac6",
      "metadata": {
        "scrolled": true,
        "id": "a3a4bac6",
        "outputId": "89a9cde0-5cd9-4b07-d8ee-1859f418d8df"
      },
      "outputs": [
        {
          "name": "stdout",
          "output_type": "stream",
          "text": [
            "Bir metin giriniz: banana\n",
            "b 1\n",
            "a 3\n",
            "n 2\n"
          ]
        }
      ],
      "source": [
        "metin=input(\"Bir metin giriniz: \")\n",
        "sozluk=dict()\n",
        "for harf in metin:\n",
        "    if harf in sozluk:\n",
        "        sozluk[harf]+=1\n",
        "    else:\n",
        "        sozluk[harf]=1\n",
        "for harf,adet in sozluk.items():\n",
        "    print(harf,adet)"
      ]
    },
    {
      "cell_type": "markdown",
      "id": "940981b3",
      "metadata": {
        "id": "940981b3"
      },
      "source": [
        "<div style=\"text-align: center;\">\n",
        "<font face=\"Courier New\" color=\"#f2f068\" size=\"4\"><b>\n",
        "    MODÜLLER"
      ]
    },
    {
      "cell_type": "code",
      "execution_count": null,
      "id": "a98f0d24",
      "metadata": {
        "scrolled": true,
        "id": "a98f0d24",
        "outputId": "389812c6-9557-4e20-a118-ccb612d10134"
      },
      "outputs": [
        {
          "name": "stdout",
          "output_type": "stream",
          "text": [
            "120\n"
          ]
        }
      ],
      "source": [
        " # Modüller\n",
        "import math\n",
        "sonuc=math.factorial(5)\n",
        "print(sonuc)\n",
        "\n",
        "from math import factorial as fct #Tüm modülünü import etmeyip sadece belli bir fonksiyonu kullanmak için\n",
        "# modülün fct olarak çağrılmasını sağlıyor.\n",
        "\n",
        "from math import * # math içindeki fonksiyonları kullanabilirsin"
      ]
    },
    {
      "cell_type": "markdown",
      "id": "3d70c526",
      "metadata": {
        "id": "3d70c526"
      },
      "source": [
        "<font face=\"Courier New\" color=\"lightgreen\" size=\"4\"><b>\n",
        "    Random Modülü"
      ]
    },
    {
      "cell_type": "code",
      "execution_count": null,
      "id": "b31c65af",
      "metadata": {
        "id": "b31c65af",
        "outputId": "23f7d518-58b1-4bdd-d38b-5e55e545c3f0"
      },
      "outputs": [
        {
          "name": "stdout",
          "output_type": "stream",
          "text": [
            "0.9318320919554564\n",
            "0.9983251899491397\n",
            "0.6051916576205554\n",
            "0.4790610503897186\n",
            "0.39628949847506\n"
          ]
        }
      ],
      "source": [
        "import random\n",
        "for i in range(5):\n",
        "    print(random.random()) # 0-1 arası sayılar üretmek için"
      ]
    },
    {
      "cell_type": "code",
      "execution_count": null,
      "id": "e87e10b3",
      "metadata": {
        "scrolled": true,
        "id": "e87e10b3",
        "outputId": "70bda413-8dec-439f-e227-33f914adf62e"
      },
      "outputs": [
        {
          "name": "stdout",
          "output_type": "stream",
          "text": [
            "14.187013245734343\n",
            "18.59747659882426\n",
            "15.853887781853715\n",
            "10.471452890254598\n",
            "10.553669170716867\n"
          ]
        }
      ],
      "source": [
        "for i in range(5):\n",
        "    print(random.uniform(10,20)) #Belirlediğimiz aralıkta sayılar üretme"
      ]
    },
    {
      "cell_type": "code",
      "execution_count": null,
      "id": "ca2f96c8",
      "metadata": {
        "id": "ca2f96c8",
        "outputId": "50f79fef-0ea2-42c2-df7e-deca0ca694b4"
      },
      "outputs": [
        {
          "name": "stdout",
          "output_type": "stream",
          "text": [
            "1\n",
            "3\n",
            "5\n",
            "5\n",
            "1\n"
          ]
        }
      ],
      "source": [
        "for i in range(5):\n",
        "    print(random.randint(1,5)) # üst sınır dahil olmak üzere tam sayı üretir"
      ]
    },
    {
      "cell_type": "code",
      "execution_count": null,
      "id": "e686ac30",
      "metadata": {
        "id": "e686ac30",
        "outputId": "5d1a358f-ca87-4149-904b-6fa19cece87d"
      },
      "outputs": [
        {
          "name": "stdout",
          "output_type": "stream",
          "text": [
            "4\n",
            "1\n",
            "4\n",
            "4\n",
            "7\n"
          ]
        }
      ],
      "source": [
        "for i in range(5):\n",
        "    print(random.randrange(1,10,3)) # (start,end,interval)"
      ]
    },
    {
      "cell_type": "code",
      "execution_count": null,
      "id": "a07d00c2",
      "metadata": {
        "id": "a07d00c2",
        "outputId": "338b01ae-8af5-4385-9d9f-940324459985"
      },
      "outputs": [
        {
          "name": "stdout",
          "output_type": "stream",
          "text": [
            "kırmızı\n",
            "['siyah', 'beyaz', 'kırmızı', 'sarı', 'mavi']\n",
            "['siyah', 'sarı', 'mavi', 'beyaz', 'kırmızı']\n",
            "['mavi', 'siyah']\n"
          ]
        }
      ],
      "source": [
        "liste=[\"siyah\",\"beyaz\",\"kırmızı\",\"sarı\",\"mavi\"]\n",
        "print(random.choice(liste)) # rastgele bir elemen seçer.\n",
        "print(liste)\n",
        "random.shuffle(liste) #listedeki elemanları karar.\n",
        "print(liste)\n",
        "print(random.sample(liste,2)) # Listeden istenilen miktarada eleman seçer."
      ]
    },
    {
      "cell_type": "code",
      "execution_count": null,
      "id": "5d7e3105",
      "metadata": {
        "id": "5d7e3105",
        "outputId": "ad89ca81-48d2-4b4d-f664-48d4bab04304"
      },
      "outputs": [
        {
          "name": "stdout",
          "output_type": "stream",
          "text": [
            "1 gelme olasılığı: 0.1642\n",
            "2 gelme olasılığı: 0.1645\n",
            "3 gelme olasılığı: 0.1685\n",
            "4 gelme olasılığı: 0.1694\n",
            "5 gelme olasılığı: 0.1671\n",
            "6 gelme olasılığı: 0.1663\n"
          ]
        }
      ],
      "source": [
        "zarlar={1:0,2:0,3:0,4:0,5:0,6:0}\n",
        "for i in range (10000):\n",
        "    zar=random.randint(1,6)\n",
        "    zarlar[zar]+=1\n",
        "for zar in zarlar:\n",
        "    print(f\"{zar} gelme olasılığı: {zarlar[zar]/10000}\")"
      ]
    },
    {
      "cell_type": "markdown",
      "id": "cdbc1a07",
      "metadata": {
        "id": "cdbc1a07"
      },
      "source": [
        "<font face=\"Courier New\" color=\"lightgreen\" size=\"3\"><b>Time Modülü"
      ]
    },
    {
      "cell_type": "code",
      "execution_count": null,
      "id": "740de25c",
      "metadata": {
        "id": "740de25c",
        "outputId": "0a03286a-2bf2-4104-8d87-c21608f3efc3"
      },
      "outputs": [
        {
          "name": "stdout",
          "output_type": "stream",
          "text": [
            "1708268387.0458457\n"
          ]
        }
      ],
      "source": [
        "import time\n",
        "zaman=time.time() # 1 Ocak 1970'den beri geçen zaman\n",
        "print(zaman)"
      ]
    },
    {
      "cell_type": "code",
      "execution_count": null,
      "id": "f9c13f2c",
      "metadata": {
        "id": "f9c13f2c",
        "outputId": "9b180e51-a064-4bf8-ebeb-ce15516c9473"
      },
      "outputs": [
        {
          "name": "stdout",
          "output_type": "stream",
          "text": [
            "0.014005422592163086\n"
          ]
        }
      ],
      "source": [
        "# Hangi algoritmanın daha hızlı çalıştığını bulmak\n",
        "initialTime=time.time()\n",
        "liste=[]\n",
        "for i in range(100000): #bu kısımda süresini ölçmek istediğin işlem\n",
        "    liste.append(i)\n",
        "endTime=time.time()\n",
        "print(endTime-initialTime)"
      ]
    },
    {
      "cell_type": "code",
      "execution_count": null,
      "id": "096dcac2",
      "metadata": {
        "id": "096dcac2",
        "outputId": "4ca6abdd-a345-4437-9999-9d2b794c693d"
      },
      "outputs": [
        {
          "name": "stdout",
          "output_type": "stream",
          "text": [
            "Sun Feb 18 17:02:59 2024\n",
            "Thu Jan  1 03:01:40 1970\n",
            "<class 'str'>\n"
          ]
        }
      ],
      "source": [
        "zaman=time.ctime() #şu anki zaman\n",
        "print(zaman)\n",
        "\n",
        "gelecek_zaman=time.ctime(100) #başlangıç zamanından 100sn geçerse zaman\n",
        "print(gelecek_zaman)\n",
        "print(type(gelecek_zaman))"
      ]
    },
    {
      "cell_type": "code",
      "execution_count": null,
      "id": "53ae50e5",
      "metadata": {
        "id": "53ae50e5",
        "outputId": "e414aa81-a359-4b6a-b03b-531701e5da9b"
      },
      "outputs": [
        {
          "name": "stdout",
          "output_type": "stream",
          "text": [
            "time.struct_time(tm_year=2024, tm_mon=2, tm_mday=18, tm_hour=17, tm_min=4, tm_sec=1, tm_wday=6, tm_yday=49, tm_isdst=0)\n"
          ]
        }
      ],
      "source": [
        "zaman=time.localtime() #zamanı ayırarak veriyor\n",
        "print(zaman)"
      ]
    },
    {
      "cell_type": "code",
      "execution_count": null,
      "id": "b8f5d75a",
      "metadata": {
        "id": "b8f5d75a",
        "outputId": "0de9ae45-7b75-4699-f8d1-4ac615904271"
      },
      "outputs": [
        {
          "name": "stdout",
          "output_type": "stream",
          "text": [
            "Sun Feb 18 17:04:47 2024\n"
          ]
        }
      ],
      "source": [
        "zaman=time.asctime()\n",
        "print(zaman)"
      ]
    },
    {
      "cell_type": "code",
      "execution_count": null,
      "id": "acb8a1b1",
      "metadata": {
        "id": "acb8a1b1",
        "outputId": "c3e253df-121f-4543-b8b3-58144f1f998b"
      },
      "outputs": [
        {
          "name": "stdout",
          "output_type": "stream",
          "text": [
            "18:02\n",
            "18/02/2024, 18:01:23\n"
          ]
        }
      ],
      "source": [
        "zaman=time.strftime(\"%d:%m\") # strftime en kullanışlı time fonksiyonlarından biri\n",
        "print(zaman)\n",
        "\n",
        "date_time=time.strftime(\"%d/%m/%Y, %H:%M:%S\")\n",
        "print(date_time)"
      ]
    },
    {
      "cell_type": "code",
      "execution_count": null,
      "id": "6102d874",
      "metadata": {
        "id": "6102d874",
        "outputId": "8caa6802-3339-4720-bd93-b93977526b72"
      },
      "outputs": [
        {
          "name": "stdout",
          "output_type": "stream",
          "text": [
            "Program başlatıldı.\n",
            "Program sonlandı.\n"
          ]
        }
      ],
      "source": [
        "print(\"Program başlatıldı.\")\n",
        "time.sleep(1.5) # programın belirli bir süre uyumasını sağlıyor.\n",
        "print(\"Program sonlandı.\")"
      ]
    },
    {
      "cell_type": "markdown",
      "id": "b2b568e7",
      "metadata": {
        "id": "b2b568e7"
      },
      "source": [
        "<font face=\"Courier New\" color=\"lightgreen\" size=\"3\"><b>Datetime Modülü"
      ]
    },
    {
      "cell_type": "code",
      "execution_count": null,
      "id": "c9e79f89",
      "metadata": {
        "id": "c9e79f89",
        "outputId": "d8fea33a-34b8-4eef-ab89-c4501a3a7263"
      },
      "outputs": [
        {
          "name": "stdout",
          "output_type": "stream",
          "text": [
            "<class 'datetime.date'>\n",
            "2024-02-18\n",
            "18\n",
            "2015-08-13\n",
            "3\n",
            "3111 days, 0:00:00\n"
          ]
        }
      ],
      "source": [
        "from datetime import date\n",
        "bugun=date.today()\n",
        "print(type(bugun))\n",
        "print(bugun)\n",
        "print(bugun.day)\n",
        "\n",
        "gecmis_tarih=date(2015,8,13) # fonksiyonları kullanmak için böyle tanımlıyoruz\n",
        "print(gecmis_tarih)\n",
        "print(gecmis_tarih.weekday()) # perşembe günü (ptesi 0)\n",
        "\n",
        "gecen_zaman=bugun-gecmis_tarih\n",
        "print(gecen_zaman)"
      ]
    },
    {
      "cell_type": "code",
      "execution_count": null,
      "id": "d07e2079",
      "metadata": {
        "id": "d07e2079",
        "outputId": "e092bea4-aa05-4aaa-81de-5a3516b74945"
      },
      "outputs": [
        {
          "name": "stdout",
          "output_type": "stream",
          "text": [
            "2024-02-18 19:39:26.669397\n",
            "19:39:26.669397\n",
            "2\n",
            "2\n",
            "Sun Feb 18 19:39:26 2024\n"
          ]
        }
      ],
      "source": [
        "from datetime import datetime\n",
        "\n",
        "suan = datetime.now()\n",
        "print(suan)\n",
        "print(suan.time())\n",
        "print(suan.month)\n",
        "print(suan.date().month)\n",
        "print(datetime.ctime(suan))"
      ]
    },
    {
      "cell_type": "markdown",
      "id": "a111d788",
      "metadata": {
        "id": "a111d788"
      },
      "source": [
        "<b>import datetime:</b> Bu ifade, datetime modülünü içe aktarır. Bu durumda, modül adını kullanarak erişebilirsiniz, örneğin datetime.datetime.now() şeklinde kullanabilirsiniz. Bu şekilde, modül adı ile birlikte fonksiyonları çağırırsınız.\n",
        "\n",
        "<b>from datetime import datetime:</b> Bu ifade, datetime modülünden sadece datetime adlı belirli bir sınıfı (ya da fonksiyonu, sınıfı veya değişkeni) içe aktarır. Bu şekilde, modül adını kullanmadan doğrudan datetime.now() gibi çağrı yapabilirsiniz."
      ]
    },
    {
      "cell_type": "code",
      "execution_count": null,
      "id": "13a6e71c",
      "metadata": {
        "id": "13a6e71c",
        "outputId": "acaaf789-bcda-4e1a-a5fa-cd3295963b67"
      },
      "outputs": [
        {
          "name": "stdout",
          "output_type": "stream",
          "text": [
            "2024-02-18 19:27:32.481680\n"
          ]
        }
      ],
      "source": [
        "import datetime\n",
        "\n",
        "suan = datetime.datetime.now()\n",
        "print(suan)"
      ]
    },
    {
      "cell_type": "code",
      "execution_count": null,
      "id": "017ff52b",
      "metadata": {
        "scrolled": false,
        "id": "017ff52b",
        "outputId": "ec06fbf7-e421-4ba0-ee68-b87db71e02b2"
      },
      "outputs": [
        {
          "name": "stdout",
          "output_type": "stream",
          "text": [
            "171\n"
          ]
        }
      ],
      "source": [
        "# Her ayın ilk gününün kaç kere pazar gününe denk geldiğini bulma\n",
        "from datetime import datetime\n",
        "pazarsayisi=0\n",
        "for year in range(1901,2001):\n",
        "    for month in range(1,13):\n",
        "        if datetime(year,month,1).weekday()==6:\n",
        "            pazarsayisi+=1\n",
        "print(pazarsayisi)"
      ]
    },
    {
      "cell_type": "markdown",
      "id": "7b0c0b8e",
      "metadata": {
        "id": "7b0c0b8e"
      },
      "source": [
        "<font face=\"Courier New\" color=\"lightgreen\" size=\"3\"><b>Os Modülü"
      ]
    },
    {
      "cell_type": "code",
      "execution_count": null,
      "id": "5407d973",
      "metadata": {
        "id": "5407d973",
        "outputId": "c270d920-d683-4224-8f8f-e0a2f01b4eba"
      },
      "outputs": [
        {
          "name": "stdout",
          "output_type": "stream",
          "text": [
            "C:\\Users\\toygar\\Desktop\n",
            "C:\\Users\\toygar\n",
            "['-1.14-windows.xml', '.anaconda', '.android', '.conda', '.condarc', '.continuum', '.ipynb_checkpoints', '.ipython', '.jupyter', '.matplotlib', '.ms-ad', '.thumbnails', '3D Objects', 'adult.csv', 'anaconda3', 'AppData', 'Application Data', 'Belgelerim', 'Characters.csv', 'Contacts', 'Cookies', 'deneme.txt', 'Desktop', 'Documents', 'Downloads', 'Ecommerce Purchases', 'Favorites', 'fifa_data.csv', 'file.csv', 'gas_prices.csv', 'Harry Potter 1.csv', 'Harry Potter 2.csv', 'Harry Potter 3.csv', 'Harry Potter.ipynb', 'lab_jupyter_launch_site_location.ipynb', 'Links', 'Local Settings', 'Matplotlib.ipynb', 'Microsoft', 'Music', 'mygraph.png', 'Netflix.ipynb', 'netflix_titles.csv', 'NetHood', 'NTUSER.DAT', 'ntuser.dat.LOG1', 'ntuser.dat.LOG2', 'NTUSER.DAT{53b39e88-18c4-11ea-a811-000d3aa4692b}.TM.blf', 'NTUSER.DAT{53b39e88-18c4-11ea-a811-000d3aa4692b}.TMContainer00000000000000000001.regtrans-ms', 'NTUSER.DAT{53b39e88-18c4-11ea-a811-000d3aa4692b}.TMContainer00000000000000000002.regtrans-ms', 'ntuser.ini', 'NYC_Jobs.csv', 'OneDrive', 'Pictures', 'Placement.csv', 'Pokemon.csv', 'Pokemon.ipynb', 'Potions.csv', 'PRICES-STOCK.csv', 'PrintHood', 'PRODUCTS.csv', 'Project Case Boston Housing Data.ipynb', 'Prpject 1&2.ipynb', 'PyCon 2019.ipynb', 'Python Eğitim Seti.ipynb', 'Recent', 'Salaries.csv', 'Saved Games', 'Seaborn.ipynb', 'Searches', 'SendTo', 'source', 'Spells.csv', 'SQL SERVER 2019', 'Start Menu', 'supermarket_sales.xlsx', 'ted.csv', 'Templates', 'Tracing', 'Untitled.ipynb', 'Untitled1.ipynb', 'Untitled2.ipynb', 'Untitled3.ipynb', 'Untitled4.ipynb', 'Untitled5.ipynb', 'Untitled6.ipynb', 'Videos', 'WebScraping_Review_Lab.ipynb']\n"
          ]
        }
      ],
      "source": [
        "import os\n",
        "print(os.getcwd()) # aktif dizini gösterir\n",
        "#os.chdir(\"C:\\\\Users\\\\toygar\\\\Desktop\") #change directory\n",
        "os.chdir(r\"C:\\Users\\toygar\\Desktop\") #change directory, other witing style\n",
        "print(os.getcwd())\n",
        "print(os.listdir()) # klasörün içeriğini göster\n",
        "#print(os.listdir(r\"C:\\Users\\toygar\\Downloads\"))\n",
        "# for dosya in os.listdir():\n",
        "#     print(dosya)\n",
        "\n",
        "# os.mkdir(\"Deneme Klasörü\") #klasör oluşturmak için"
      ]
    },
    {
      "cell_type": "markdown",
      "id": "94606e13",
      "metadata": {
        "id": "94606e13"
      },
      "source": [
        "<div style=\"text-align: center;\">\n",
        "<font face=\"Courier New\" color=\"#f2f068\" size=\"4\"><b>Dosya İşlemleri"
      ]
    },
    {
      "cell_type": "code",
      "execution_count": null,
      "id": "3ba5bac8",
      "metadata": {
        "id": "3ba5bac8",
        "outputId": "69e202ce-b5d3-4f96-83c2-aec6124c8f82"
      },
      "outputs": [
        {
          "name": "stdout",
          "output_type": "stream",
          "text": [
            "Dozens of actors from the United Kingdom and Ireland portrayed or voiced characters appearing in the Harry Potter film series based on the book series by J. K. Rowling. In all the films, Daniel Radcliffe played Harry Potter, Rupert Grint played Ron Weasley and Emma Watson played Hermione Granger. When they were cast only Radcliffe had previously acted in a film.[1] Complementing them on screen are such actors as Helena Bonham Carter, Jim Broadbent, John Cleese, Robbie Coltrane, Warwick Davis, Ralph Fiennes, Michael Gambon, Brendan Gleeson, Richard Griffiths, Richard Harris, John Hurt, Jason Isaacs, Miriam Margolyes, Helen McCrory, Gary Oldman, Alan Rickman, Fiona Shaw, Maggie Smith, Timothy Spall, Imelda Staunton, David Thewlis, Emma Thompson, and Julie Walters, among others. Thirteen actors appeared as the same character in all eight films of the series.[2]\n"
          ]
        }
      ],
      "source": [
        "f=open(\"deneme.txt\",\"r\") #1.parametre dosyanın yolu, 2.parametre r: read mode, w: write mode, r+: okuma ve yazma\n",
        "icerik=f.read()\n",
        "print(icerik)\n",
        "f.close() #açtığın dosyayı kapatmazsan hafızada yer tutmaya devam eder."
      ]
    },
    {
      "cell_type": "code",
      "execution_count": null,
      "id": "0b81a428",
      "metadata": {
        "scrolled": true,
        "id": "0b81a428",
        "outputId": "018223f2-de53-4752-94f8-a7fbf7c383ca"
      },
      "outputs": [
        {
          "name": "stdout",
          "output_type": "stream",
          "text": [
            "Dozens of actors from the United Kingdom and Ireland portrayed or voiced characters appearing in the Harry Potter film series based on the book series by J. K. Rowling. \n",
            "\n",
            "In all the films, Daniel Radcliffe played Harry Potter, Rupert Grint played Ron Weasley and Emma Watson played Hermione Granger. \n",
            "\n",
            "When they were cast only Radcliffe had previously acted in a film.\n",
            "\n",
            "Complementing them on screen are such actors as Helena Bonham Carter, Jim Broadbent, John Cleese, Robbie Coltrane, Warwick Davis, Ralph Fiennes, Michael Gambon, Brendan Gleeson, Richard Griffiths, Richard Harris, John Hurt, Jason Isaacs, Miriam Margolyes, Helen McCrory, Gary Oldman, Alan Rickman, Fiona Shaw, Maggie Smith, Timothy Spall, Imelda Staunton, David Thewlis, Emma Thompson, and Julie Walters, among others. Thirteen actors appeared as the same character in all eight films of the series.[2]\n"
          ]
        }
      ],
      "source": [
        "with open(\"deneme.txt\") as f:\n",
        "    icerik = f.readlines() # böyle yapınca kendisi otomatik kapatıyor.\n",
        "#     print(icerik)\n",
        "    for satir in icerik:\n",
        "        print(satir) #aradaki boşlukları kaldırmak için print(satir,end=\"\")"
      ]
    },
    {
      "cell_type": "markdown",
      "id": "c4a513de",
      "metadata": {
        "id": "c4a513de"
      },
      "source": [
        "<div style=\"text-align: center;\">\n",
        "<font face=\"Courier New\" color=\"#f2f068\" size=\"4\"><b>List Comprehension"
      ]
    },
    {
      "cell_type": "code",
      "execution_count": null,
      "id": "478b6981",
      "metadata": {
        "id": "478b6981",
        "outputId": "dc790f1c-5e96-4290-896b-b02a6a0927c4"
      },
      "outputs": [
        {
          "name": "stdout",
          "output_type": "stream",
          "text": [
            "[1, 2, 3, 4, 5, 6, 7, 8, 9]\n",
            "[1, 2, 3, 4, 5, 6, 7, 8, 9]\n",
            "[1, 4, 9, 16, 25, 36, 49, 64, 81]\n",
            "[6, 8]\n"
          ]
        }
      ],
      "source": [
        "numbers=[1,2,3,4,5,6,7,8,9]\n",
        "#Listedeki rakamlardan oluşan liste oluşturma\n",
        "list1=[]\n",
        "for number in numbers:\n",
        "    list1.append(number)\n",
        "print(list1)\n",
        "\n",
        "list2=[number for number in numbers]\n",
        "print(list2)\n",
        "\n",
        "#Listedeki rakamların karelerinden oluşan liste oluşturma\n",
        "list3=[number*number for number in numbers]\n",
        "print(list3)\n",
        "\n",
        "#Listedeki 4ten büyük çift rakamlardan oluşan bir liste oluşturma\n",
        "list4=[number for number in numbers if number %2 ==0 and number >4]\n",
        "print(list4)"
      ]
    },
    {
      "cell_type": "code",
      "execution_count": null,
      "id": "969c85cf",
      "metadata": {
        "id": "969c85cf",
        "outputId": "badc7135-479c-4a56-8613-4d4302862d1a"
      },
      "outputs": [
        {
          "name": "stdout",
          "output_type": "stream",
          "text": [
            "[(1, 'a'), (1, 'b'), (1, 'c'), (1, 'd'), (2, 'a'), (2, 'b'), (2, 'c'), (2, 'd'), (3, 'a'), (3, 'b'), (3, 'c'), (3, 'd'), (4, 'a'), (4, 'b'), (4, 'c'), (4, 'd')]\n"
          ]
        }
      ],
      "source": [
        "numbers=[1,2,3,4]\n",
        "letters=\"abcd\"\n",
        "# ikililerden oluşan bir liste oluşturma\n",
        "list1=[(number,letter) for number in numbers for letter in letters]\n",
        "print(list1)"
      ]
    },
    {
      "cell_type": "code",
      "execution_count": null,
      "id": "ae4ed006",
      "metadata": {
        "id": "ae4ed006",
        "outputId": "a930e074-7ea5-4718-a3a1-0e95194816a0"
      },
      "outputs": [
        {
          "name": "stdout",
          "output_type": "stream",
          "text": [
            "[36, 49, 64, 81]\n",
            "[36, 49, 64, 81]\n"
          ]
        }
      ],
      "source": [
        "list1=[1,2,3,4,5,6,7,8,9]\n",
        "list2=[1,2,3,4,5]\n",
        "#1.listede bulunup ikinci listede bulunmayan rakamların karesinden oluşan bir liste oluşturma\n",
        "list3=[]\n",
        "for number in list1:\n",
        "    if number not in list2:\n",
        "        list3.append(number*number)\n",
        "print(list3)\n",
        "\n",
        "list4=[number*number for number in list1 if number not in list2] #aynı mantık\n",
        "print(list4)"
      ]
    },
    {
      "cell_type": "code",
      "execution_count": null,
      "id": "59caa24a",
      "metadata": {
        "id": "59caa24a"
      },
      "outputs": [],
      "source": []
    },
    {
      "cell_type": "code",
      "execution_count": null,
      "id": "749337e3",
      "metadata": {
        "scrolled": true,
        "id": "749337e3",
        "outputId": "e83a58f1-f8b8-43dc-c7b7-e8ac60750287"
      },
      "outputs": [
        {
          "name": "stdout",
          "output_type": "stream",
          "text": [
            "[1, 2, 3, 4, 5, 6, 7, 8, 9]\n"
          ]
        }
      ],
      "source": [
        "list1=[[1,2,3],[4,5,6],[7,8,9]]\n",
        "#elemanları tek tek alan bir liste\n",
        "list2=[j for i in list1 for j in i] # i list1'in elemanları, j o elemanların elemanları\n",
        "print(list2)"
      ]
    },
    {
      "cell_type": "markdown",
      "id": "6ebf45fc",
      "metadata": {
        "id": "6ebf45fc"
      },
      "source": [
        "<div style=\"text-align: center;\">\n",
        "<font face=\"Courier New\" color=\"#f2f068\" size=\"4\"><b>Try - Except"
      ]
    },
    {
      "cell_type": "code",
      "execution_count": null,
      "id": "de3451dd",
      "metadata": {
        "id": "de3451dd",
        "outputId": "77c97688-3434-40e7-8050-2878ace67efe"
      },
      "outputs": [
        {
          "name": "stdout",
          "output_type": "stream",
          "text": [
            "5\n",
            "2\n",
            "2.5\n",
            "Finally bloğu hep çalışır.\n"
          ]
        }
      ],
      "source": [
        "#Program hata olsa bile kendini sonlandırmasın\n",
        "try: #try'da hata olmazsa except'i atlar.\n",
        "    a=5\n",
        "    b=2 # 0 veya bir sayı yap.\n",
        "    c=a/b\n",
        "    d=7 # x gibi tanımsız bir değer veya sayı yap\n",
        "    isim=\"Ali\"\n",
        "    karakter=isim[1] #indexe 3ten az veya fazla bişey yaz\n",
        "except ZeroDivisionError:\n",
        "    print(\"Payda sıfır olmamalı.\")\n",
        "except NameError:\n",
        "    print(\"Değişken tanımlanmamış.\")\n",
        "except IndexError:\n",
        "    print(\"Böyle bir index bulunmuyor.\")\n",
        "except Exception: # en son ihtimalde\n",
        "    print(\"Bilinmeyen bir hata oluştu.\")\n",
        "else: #try bloğunun içinde hata çıkmadığı durumda çalışır.\n",
        "    print(a)\n",
        "    print(b)\n",
        "    print(c)\n",
        "finally: # hata olsa da olmasa da çalışır.\n",
        "    print(\"Finally bloğu hep çalışır.\")"
      ]
    },
    {
      "cell_type": "markdown",
      "id": "5c3d8882",
      "metadata": {
        "id": "5c3d8882"
      },
      "source": [
        "<div style=\"text-align: center;\">\n",
        "<font face=\"Courier New\" color=\"#f2f068\" size=\"4\"><b>\n",
        "    CLASS"
      ]
    },
    {
      "cell_type": "markdown",
      "id": "7fd481e0",
      "metadata": {
        "id": "7fd481e0"
      },
      "source": [
        "![image.png](attachment:image.png)"
      ]
    },
    {
      "cell_type": "markdown",
      "id": "04db9009",
      "metadata": {
        "id": "04db9009"
      },
      "source": []
    },
    {
      "cell_type": "code",
      "execution_count": null,
      "id": "a849bdc0",
      "metadata": {
        "id": "a849bdc0",
        "outputId": "b86c5317-8a52-47b2-cec4-966684c46b76"
      },
      "outputs": [
        {
          "name": "stdout",
          "output_type": "stream",
          "text": [
            "Ad: Ahmet \n",
            "Soyad: Cevizkabuğu \n",
            "Yaş: 32\n",
            "\n",
            "Ad: Mehmet \n",
            "Soyad: Yıldız \n",
            "Yaş: 36\n",
            "\n",
            "Ad: Sezer \n",
            "Soyad:  \n",
            "Yaş: 29\n"
          ]
        }
      ],
      "source": [
        "\n",
        "class employee: #__init__ özel bir fonksiyon\n",
        "    def __init__(self,name,surname=\"\",age=\"\"): #self benim oluşturduğum değişken, değişkenler girilmediği durumda ne yapılması gerektiğini belirtmek için istediğin değişkenlere default değer aTa\n",
        "        self.name = name #name, surname, age değişkenimin özellikleri (attribute)\n",
        "        self.surname = surname\n",
        "        self.age = age\n",
        "    def show_info(self): #class'a bağlı olan fonksiyonlara metot denir.\n",
        "        print(f\"Ad: {self.name} \\nSoyad: {self.surname} \\nYaş: {self.age}\")\n",
        "# Creating instances. Ahmet, Mehmet,.. bunlar instance variables(örnek/nesnelerin değişkenleri)\n",
        "employee1=employee(\"Ahmet\",'Cevizkabuğu',32) #employee1 self olarak prosedüre gidecek\n",
        "employee2=employee(\"Mehmet\",\"Yıldız\",36)\n",
        "employee3=employee(\"Sezer\",age=29) #soyadı yazmadığın için ikinci sırada yazdığını age olarak alması için age'i eşitliyoruz\n",
        "#print(employee1.name,employee1.surname)\n",
        "#print(employee2.name,employee2.age)\n",
        "employee1.show_info() #employee1 show_info'ya self olarak gönderildi\n",
        "print(\"\")\n",
        "employee.show_info(employee2)\n",
        "print(\"\")\n",
        "employee3.show_info()"
      ]
    },
    {
      "cell_type": "markdown",
      "id": "e03fb27f",
      "metadata": {
        "id": "e03fb27f"
      },
      "source": [
        "<font face=\"Courier New\" color=\"lightgreen\" size=\"3\"><b>Class Variables vs Instance Variables"
      ]
    },
    {
      "cell_type": "code",
      "execution_count": null,
      "id": "16733d7d",
      "metadata": {
        "id": "16733d7d",
        "outputId": "2a970990-90bd-4fee-d2bf-7a06645fb484"
      },
      "outputs": [
        {
          "name": "stdout",
          "output_type": "stream",
          "text": [
            "ali\n",
            "{'isim': 'ali', 'maas': 5000}\n",
            "1.1\n",
            "1.1\n",
            "Classta değişiklik yapınca:\n",
            "1.2\n",
            "1.2\n",
            "Belirli bir nesnede değişiklik yapınca:\n",
            "1.2\n",
            "1.2\n",
            "1.2\n"
          ]
        }
      ],
      "source": [
        "class calisan:\n",
        "    zam_orani=1.1\n",
        "    def __init__(self,isim,maas):\n",
        "        self.isim=isim\n",
        "        self.maas=maas\n",
        "calisan1=calisan(\"ali\",5000)\n",
        "calisan2=calisan(\"ahmet\",6000)\n",
        "print(calisan1.isim)\n",
        "print(calisan1.__dict__)\n",
        "\n",
        "print(calisan.zam_orani)\n",
        "print(calisan1.zam_orani) #nesnenin kendisinde bulamayınca class'a bakıyor.\n",
        "\n",
        "calisan.zam_orani=1.2 #class'takini değiştirince hepsi değişiyor.\n",
        "print(\"Classta değişiklik yapınca:\")\n",
        "print(calisan.zam_orani)\n",
        "print(calisan1.zam_orani)\n",
        "print(\"Belirli bir nesnede değişiklik yapınca:\")\n",
        "calisan1.zam_orani=1.2 #nesneninkini değiştirince sadece o değişiyor.\n",
        "print(calisan.zam_orani)\n",
        "print(calisan1.zam_orani)\n",
        "print(calisan2.zam_orani)"
      ]
    },
    {
      "cell_type": "code",
      "execution_count": null,
      "id": "3966ea06",
      "metadata": {
        "scrolled": true,
        "id": "3966ea06",
        "outputId": "85fb2389-177d-48ce-8e1e-795e42371350"
      },
      "outputs": [
        {
          "name": "stdout",
          "output_type": "stream",
          "text": [
            "0\n",
            "1\n",
            "2\n"
          ]
        }
      ],
      "source": [
        "class calisan:\n",
        "    personel_sayisi=0\n",
        "    def __init__(self,isim,maas): #nesne oluşturduğumuz zaman otomatik olarak çalışan bir fonksiyon\n",
        "        self.isim=isim\n",
        "        self.maas=maas\n",
        "        calisan.personel_sayisi+=1\n",
        "print(calisan.personel_sayisi)\n",
        "calisan1=calisan(\"ali\",5000)\n",
        "print(calisan.personel_sayisi)\n",
        "calisan2=calisan(\"ahmet\",6000)\n",
        "print(calisan.personel_sayisi)"
      ]
    },
    {
      "cell_type": "markdown",
      "id": "0c89ae63",
      "metadata": {
        "id": "0c89ae63"
      },
      "source": [
        "<font face=\"Courier New\" color=\"lightgreen\" size=\"3\"><b>Class Methods | Instance Methods | Static Methods"
      ]
    },
    {
      "cell_type": "code",
      "execution_count": null,
      "id": "9f73f1d1",
      "metadata": {
        "id": "9f73f1d1"
      },
      "outputs": [],
      "source": [
        "class kisi:\n",
        "    kisi_sayisi=0\n",
        "    def __init__(self,isim,yas):\n",
        "        self.isim=isim\n",
        "        self.yas=yas\n",
        "        kisi.kisi_sayisi+=1\n",
        "    def bilgilerini_soyle(self): #Instance method\n",
        "        return f\"Ad:{self.isim} Yaş:{self.yas}\"\n",
        "    @classmethod #nesneyle değil de cls ismiyle çağrılıyor\n",
        "    def kisi_sayisini_soyle(cls): #cls fonksiyonu çağırırken kullandığımız class\n",
        "        return cls.kisi_sayisi\n",
        "    @classmethod\n",
        "    def string_ile_olustur(cls,str_):\n",
        "        isim,yas=str_.split(\"-\")\n",
        "        return cls(isim,yas)\n",
        "    @staticmethod #içine değişken almak zorunda değil\n",
        "    def dogum_yili_hesapla(kisi):\n",
        "        return date.today().year-kisi.yas\n",
        "\n",
        "kisi1=kisi(\"Ali\",20)\n",
        "kisi2=kisi(\"Veli\",30)\n",
        "kisi3=kisi.string_ile_olustur(\"Ayşe-20\")\n",
        "print(kisi.kisi_sayisini_soyle())"
      ]
    },
    {
      "cell_type": "markdown",
      "id": "43a45ee6",
      "metadata": {
        "id": "43a45ee6"
      },
      "source": [
        "Inheritance\n"
      ]
    },
    {
      "cell_type": "markdown",
      "source": [
        "![image.png](data:image/png;base64,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)"
      ],
      "metadata": {
        "id": "gZLEtnE6qDcf"
      },
      "id": "gZLEtnE6qDcf"
    },
    {
      "cell_type": "code",
      "execution_count": null,
      "id": "9128339a",
      "metadata": {
        "colab": {
          "base_uri": "https://localhost:8080/"
        },
        "id": "9128339a",
        "outputId": "5e1c2ce0-bcbb-427f-8c88-e409928def94"
      },
      "outputs": [
        {
          "output_type": "stream",
          "name": "stdout",
          "text": [
            "ayşeyıldız@amazon.com\n",
            "1.2\n",
            "Ben bir yazılımcıyım.\n"
          ]
        }
      ],
      "source": [
        "class Çalışan:\n",
        "    zam_oranı=1.1\n",
        "    def __init__(self,isim,soyisim,maas): #__init__ özel bir metot (magic metot: pythonda bulunan özel gömülü metotlar)\n",
        "    # Bir sınıf tanımladığınızda, genellikle __init__ metodu içinde sınıfın başlangıç durumunu ayarlayacak kodları yazarsınız.\n",
        "    # Bu metot, bir sınıfın bir nesnesi yaratıldığında otomatik olarak çağrılır.\n",
        "      self.isim=isim\n",
        "      self.soyisim=soyisim\n",
        "      self.maas=maas\n",
        "      self.email=isim+soyisim+\"@amazon.com\"\n",
        "    def bilgileri_göster(self):\n",
        "      return \"Ad: {}, Soyad: {}, Maaş: {}, Email: {}\".format(self.isim,self.soyisim,self.maas,self.email)\n",
        "class Yazılımcı(Çalışan): # yazılımcı calisan'ın bir sınıfı\n",
        "    #pass yazarak devamına hiçbir şey yazmayıp class'ı tamamlayabilirsin.\n",
        "    zam_oranı=1.2\n",
        "    def bilgileri_göster(self):\n",
        "      return \"Ben bir yazılımcıyım.\"\n",
        "\n",
        "çalışan1=Çalışan(\"elif\",\"tokat\",6000) #çalışan1'in ismine elif'i tanımladı\n",
        "yazılımcı1=Yazılımcı(\"ayşe\",\"yıldız\",7000)\n",
        "print(yazılımcı1.email)\n",
        "print(yazılımcı1.zam_oranı) #yazilimci'da zam oranı olduğu için calisan'daki geçersiz\n",
        "print(yazılımcı1.bilgileri_göster()) #self dışında parametre almadığı için içi boş parantez"
      ]
    },
    {
      "cell_type": "code",
      "source": [
        "class Çalışan:\n",
        "    zam_oranı=1.1\n",
        "    def __init__(self,isim,soyisim,maas):\n",
        "      self.isim=isim\n",
        "      self.soyisim=soyisim\n",
        "      self.maas=maas\n",
        "      self.email=isim+soyisim+\"@amazon.com\"\n",
        "    def bilgileri_göster(self):\n",
        "      return \"Ad: {}, Soyad: {}, Maaş: {}, Email: {}\".format(self.isim,self.soyisim,self.maas,self.email)\n",
        "class Yazılımcı(Çalışan): # yazılımcı calisan'ın özelliklerini miras alacak.\n",
        "    #pass yazarak devamına hiçbir şey yazmayıp class'ı tamamlayabilirsin.\n",
        "    zam_oranı=1.2\n",
        "    def __init__(self,isim,soyisim,maas,bildigi_dil):\n",
        "      super().__init__(isim,soyisim,maas) #Çalışan class'ındaki init fonksiyonunun parametrelerini al\n",
        "      # self.isim=isim\n",
        "      # self.soyisim=soyisim\n",
        "      # self.maas=maas\n",
        "      # self.email=isim+soyisim+\"@amazon.com\"\n",
        "      self.bildigi_dil=bildigi_dil\n",
        "    def bilgileri_göster(self):\n",
        "      return \"Ad: {}, Soyad: {}, Maaş: {}, Email: {}, Dil: {}\".format(self.isim,self.soyisim,self.maas,self.email,self.bildigi_dil)\n",
        "class Yönetici(Çalışan):\n",
        "    def __init__(self, isim, soyisim, maas, calisanlar=None):\n",
        "      super().__init__(isim, soyisim, maas)\n",
        "      if calisanlar==None:\n",
        "        self.calisanlar=[]\n",
        "      else:\n",
        "        self.calisanlar=calisanlar\n",
        "    def calisan_ekle(self,calisan):\n",
        "      if calisan not in self.calisanlar:\n",
        "        self.calisanlar.append(calisan)\n",
        "    def calisan_sil(self,calisan):\n",
        "      if calisan in self.calisanlar:\n",
        "        self.calisanlar.remove(calisan)\n",
        "    def calisanlari_goster(self):\n",
        "      for calisan in self.calisanlar:\n",
        "        print(calisan.bilgileri_göster())\n",
        "\n",
        "yazılımcı1=Yazılımcı(\"ayşe\",\"yıldız\",7000,\"java\")\n",
        "yazılımcı2=Yazılımcı(\"derya\",\"maraşlı\",6000,\"c\")\n",
        "yönetici1=Yönetici(\"Murat\",\"Soysuz\",12000)\n",
        "yönetici2=Yönetici(\"Sevda\",\"Tosun\",14000,[yazılımcı1,yazılımcı2])\n",
        "\n",
        "yönetici1.calisan_ekle(yazılımcı1)\n",
        "yönetici1.calisan_ekle(yazılımcı2)\n",
        "yönetici1.calisanlari_goster()\n",
        "print()\n",
        "print(isinstance(yönetici2,Çalışan)) #1.yazdığın nesne 2.yazdığın nesneden üretilmiş mi?\n",
        "print(isinstance(yönetici2,Yönetici))\n"
      ],
      "metadata": {
        "colab": {
          "base_uri": "https://localhost:8080/"
        },
        "id": "AL8MoIa-CYIj",
        "outputId": "a3862e3e-ef70-4e9a-ef76-2e1efa03846c"
      },
      "id": "AL8MoIa-CYIj",
      "execution_count": null,
      "outputs": [
        {
          "output_type": "stream",
          "name": "stdout",
          "text": [
            "Ad: ayşe, Soyad: yıldız, Maaş: 7000, Email: ayşeyıldız@amazon.com, Dil: java\n",
            "Ad: derya, Soyad: maraşlı, Maaş: 6000, Email: deryamaraşlı@amazon.com, Dil: c\n",
            "\n",
            "True\n",
            "True\n"
          ]
        }
      ]
    },
    {
      "cell_type": "code",
      "source": [
        "class courses:\n",
        "  def __init__(self,name,somestr,grade):\n",
        "    self.name=name\n",
        "    self.somestr=somestr\n",
        "    self.grade=grade\n",
        "  def success(self):\n",
        "    if self.grade in [\"AA\",\"BA\"]:\n",
        "      return \"Successful\"\n",
        "    else:\n",
        "      return \"Not successful\"\n",
        "  def infos(self):\n",
        "    print(f\"{self.name} passed the course with {self.grade} in {self.somestr}.\")\n",
        "\n",
        "student1=courses(\"Melis\",\"Fall\",\"AA\") #student1 self'ine ait değişkenler\n",
        "student2=courses(\"Selin\",\"Spring\",\"CB\")\n",
        "print(student2.success())\n",
        "student2.infos()\n",
        "\n",
        "class cbt_course(courses):\n",
        "  def __init__(self,name,somestr,grade,lessons=None):\n",
        "    super().__init__(name,somestr,grade)\n",
        "    if lessons is None:\n",
        "      self.lessons=[]\n",
        "    else:\n",
        "      self.lessons=lessons\n",
        "  def infos(self):\n",
        "    print(f\"{self.name} passed the course with {self.grade} in {self.somestr} by participating in the following classes: {self.lessons}.\")\n",
        "cbtstudent1=cbt_course(\"Aydan\",\"Fall\",\"BB\",[1,4,6,7,8])\n",
        "cbtstudent1.infos()"
      ],
      "metadata": {
        "colab": {
          "base_uri": "https://localhost:8080/"
        },
        "id": "aUHCclr6nSom",
        "outputId": "8a75706c-dc22-485a-fbbc-15d2260fac17"
      },
      "id": "aUHCclr6nSom",
      "execution_count": null,
      "outputs": [
        {
          "output_type": "stream",
          "name": "stdout",
          "text": [
            "Not successful\n",
            "Selin passed the course with CB in Spring.\n",
            "Aydan passed the course with BB in Fall by participating in the following classes: [1, 4, 6, 7, 8].\n"
          ]
        }
      ]
    },
    {
      "cell_type": "markdown",
      "source": [
        " __str__ ve __repr__\n",
        "\n",
        " str kullanıcının görmesini istediğimiz şey\n",
        "\n",
        " repr geliştiriciler için. Çıktıyı kopyala yapıştır yaptığında nesneyi alabilirsin."
      ],
      "metadata": {
        "id": "7hrXJCnFR7Sv"
      },
      "id": "7hrXJCnFR7Sv"
    },
    {
      "cell_type": "code",
      "source": [
        "a=\"python\"\n",
        "print(str(a))\n",
        "print(repr(a))"
      ],
      "metadata": {
        "colab": {
          "base_uri": "https://localhost:8080/"
        },
        "id": "Uug3FOc7R-1s",
        "outputId": "6d1101d4-1966-442b-ddfb-4e015d73bf2c"
      },
      "id": "Uug3FOc7R-1s",
      "execution_count": null,
      "outputs": [
        {
          "output_type": "stream",
          "name": "stdout",
          "text": [
            "python\n",
            "'python'\n"
          ]
        }
      ]
    },
    {
      "cell_type": "code",
      "source": [
        "from datetime import date\n",
        "bugun=date.today()\n",
        "print(bugun)\n",
        "print(str(bugun))\n",
        "print(repr(bugun))\n"
      ],
      "metadata": {
        "colab": {
          "base_uri": "https://localhost:8080/"
        },
        "id": "ZiQX6QcHSgv2",
        "outputId": "d0a2e2f7-1108-4357-d71d-16568fe04355"
      },
      "id": "ZiQX6QcHSgv2",
      "execution_count": null,
      "outputs": [
        {
          "output_type": "stream",
          "name": "stdout",
          "text": [
            "2024-02-21\n",
            "2024-02-21\n",
            "datetime.date(2024, 2, 21)\n"
          ]
        }
      ]
    },
    {
      "cell_type": "code",
      "source": [
        "import datetime\n",
        "c=datetime.date(2024, 2, 21)\n",
        "print(c)"
      ],
      "metadata": {
        "colab": {
          "base_uri": "https://localhost:8080/"
        },
        "id": "8oXwBZ4UTXV9",
        "outputId": "bbcda898-b7df-4100-c618-8ffa3bad672a"
      },
      "id": "8oXwBZ4UTXV9",
      "execution_count": null,
      "outputs": [
        {
          "output_type": "stream",
          "name": "stdout",
          "text": [
            "2024-02-21\n"
          ]
        }
      ]
    },
    {
      "cell_type": "code",
      "source": [
        "class futbolcu:\n",
        "  def __init__(self,isim,soyisim,yas):\n",
        "    self.isim=isim\n",
        "    self.soyisim=soyisim\n",
        "    self.yas=yas\n",
        "\n",
        "futbolcu1=futbolcu(\"Cristiano\",\"Ronaldo\",39)\n",
        "print(futbolcu1) #classta str bulamayınca böyle yazdırıyor"
      ],
      "metadata": {
        "colab": {
          "base_uri": "https://localhost:8080/"
        },
        "id": "EPsJxAHUTgjw",
        "outputId": "d8b6c54e-9bab-4538-94e2-7cf773f75f94"
      },
      "id": "EPsJxAHUTgjw",
      "execution_count": null,
      "outputs": [
        {
          "output_type": "stream",
          "name": "stdout",
          "text": [
            "<__main__.futbolcu object at 0x7d31e85a76d0>\n"
          ]
        }
      ]
    },
    {
      "cell_type": "code",
      "source": [
        "class futbolcu:\n",
        "  def __init__(self,isim,soyisim,yas):\n",
        "    self.isim=isim\n",
        "    self.soyisim=soyisim\n",
        "    self.yas=yas\n",
        "  def __str__(self):\n",
        "    return f\"Futbolcu: {self.isim} {self.soyisim}\"\n",
        "  def __repr__(self):\n",
        "    return f'futbolcu(\"{self.isim}\",\"{self.soyisim}\",\"{self.yas}\")'\n",
        "\n",
        "futbolcu1=futbolcu(\"Cristiano\",\"Ronaldo\",39)\n",
        "print(futbolcu1) #classta str özel metotuna göre çıktı alıyor\n",
        "# str özel metotunu bulamazsa repr'i çalıştırır\n",
        "print(repr(futbolcu1)) #repr'i str varken çalıştırmak için\n",
        "print(futbolcu1.__repr__()) #repr'i str varken çalıştırmak için\n",
        "\n",
        "#repr çıktısını kopyala yapıştır yaparak bu nesneyi tekrar oluşturabiliriz\n",
        "futbolcu2=futbolcu(\"Cristiano\",\"Ronaldo\",\"39\")"
      ],
      "metadata": {
        "colab": {
          "base_uri": "https://localhost:8080/"
        },
        "id": "wBH6ehKRURUx",
        "outputId": "305055f0-1cc3-4da6-831b-69a589228713"
      },
      "id": "wBH6ehKRURUx",
      "execution_count": null,
      "outputs": [
        {
          "output_type": "stream",
          "name": "stdout",
          "text": [
            "Futbolcu: Cristiano Ronaldo\n",
            "futbolcu(\"Cristiano\",\"Ronaldo\",\"39\")\n",
            "futbolcu(\"Cristiano\",\"Ronaldo\",\"39\")\n"
          ]
        }
      ]
    },
    {
      "cell_type": "markdown",
      "source": [
        "**args, kwargs - İleri Seviye Fonksiyonlar**"
      ],
      "metadata": {
        "id": "EU0bboBGXM2E"
      },
      "id": "EU0bboBGXM2E"
    },
    {
      "cell_type": "code",
      "source": [
        "# sıralamadaki değerler --> positional arguments\n",
        "\n",
        "def bilgi_ver(ad,soyad=\"girilmedi\",yas=\"girilmedi\"): #keyword argument\n",
        "  return f\"Ad: {ad} Soyad: {soyad} Yaş: {yas}\"\n",
        "\n",
        "print(bilgi_ver(\"ali\",yas=34)) #yaşın 34 olduğunu belirtmek için. aksi halde soyada tanımlar."
      ],
      "metadata": {
        "colab": {
          "base_uri": "https://localhost:8080/"
        },
        "id": "I4AoujDiUphY",
        "outputId": "713b9b55-ffd2-4487-a7cf-20a75cb9ffc2"
      },
      "id": "I4AoujDiUphY",
      "execution_count": null,
      "outputs": [
        {
          "output_type": "stream",
          "name": "stdout",
          "text": [
            "Ad: ali Soyad: girilmedi Yaş: 34\n"
          ]
        }
      ]
    },
    {
      "cell_type": "code",
      "source": [
        "def carpim(*args): #args istediğin sayıda argüman girme\n",
        "  carpim=1\n",
        "  for arg in args:\n",
        "    carpim*=arg\n",
        "  return carpim\n",
        "\n",
        "carpim(2,4,5)"
      ],
      "metadata": {
        "colab": {
          "base_uri": "https://localhost:8080/"
        },
        "id": "S_8NBhfaR5JH",
        "outputId": "7ad0ba2a-2f9b-4abd-d609-955b0216f324"
      },
      "id": "S_8NBhfaR5JH",
      "execution_count": null,
      "outputs": [
        {
          "output_type": "execute_result",
          "data": {
            "text/plain": [
              "40"
            ]
          },
          "metadata": {},
          "execution_count": 3
        }
      ]
    },
    {
      "cell_type": "code",
      "source": [
        "def selamla(mesaj,*args):\n",
        "  print(mesaj)\n",
        "  for arg in args:\n",
        "    print(arg)\n",
        "\n",
        "print(selamla(\"merhaba\",\"nasılsın\",23))"
      ],
      "metadata": {
        "colab": {
          "base_uri": "https://localhost:8080/"
        },
        "id": "PPK5Lb_oUIgs",
        "outputId": "a3209a70-19bf-4a01-9e02-6544f85ea7bc"
      },
      "id": "PPK5Lb_oUIgs",
      "execution_count": null,
      "outputs": [
        {
          "output_type": "stream",
          "name": "stdout",
          "text": [
            "merhaba\n",
            "nasılsın\n",
            "23\n",
            "None\n"
          ]
        }
      ]
    },
    {
      "cell_type": "code",
      "source": [
        "def func(**kwargs): #kwargs istediğin sayıda keyword argüman girme\n",
        "  print(kwargs)\n",
        "\n",
        "func(ad=\"ali\", soyad=\"savaşçı\", yaş=34)\n",
        "# girdiğimiz keyword argümanlarını sözlük olarak saklar."
      ],
      "metadata": {
        "colab": {
          "base_uri": "https://localhost:8080/"
        },
        "id": "AmCA-Qdm9o3f",
        "outputId": "9e4db1ed-ef25-444d-d999-7a64c154c70d"
      },
      "id": "AmCA-Qdm9o3f",
      "execution_count": null,
      "outputs": [
        {
          "output_type": "stream",
          "name": "stdout",
          "text": [
            "{'ad': 'ali', 'soyad': 'savaşçı', 'yaş': 34}\n"
          ]
        }
      ]
    },
    {
      "cell_type": "code",
      "source": [
        "def func(zorunlu,*args,**kwargs):\n",
        "  print(zorunlu)\n",
        "  print()\n",
        "  for arg in args:\n",
        "    print(arg)\n",
        "  print()\n",
        "  # for kwarg in kwargs: #keywordleri gösterir\n",
        "  #   print(kwarg)\n",
        "  for k,v in kwargs.items():\n",
        "    print(v) #value'ları gösterir\n",
        "\n",
        "func(1,2,3,4,ad=\"john\", soyad=\"burton\")"
      ],
      "metadata": {
        "colab": {
          "base_uri": "https://localhost:8080/"
        },
        "id": "3br-s0AT92hV",
        "outputId": "8ccb60a8-a3bb-44e4-d4d5-da74203879eb"
      },
      "id": "3br-s0AT92hV",
      "execution_count": null,
      "outputs": [
        {
          "output_type": "stream",
          "name": "stdout",
          "text": [
            "1\n",
            "\n",
            "2\n",
            "3\n",
            "4\n",
            "\n",
            "john\n",
            "burton\n"
          ]
        }
      ]
    },
    {
      "cell_type": "markdown",
      "source": [
        "**Dunder Methods | Magic Methods**"
      ],
      "metadata": {
        "id": "WDexV7xB_de0"
      },
      "id": "WDexV7xB_de0"
    },
    {
      "cell_type": "code",
      "source": [
        "print(3+5) #içeridekilerin integer olduğunu anlayıp aşağıdakini döndürüyor\n",
        "print(int.__add__(3,5)) #arka planda dönen.\n",
        "\n",
        "print(\"ali\"+\"veli\")\n",
        "print(str.__add__(\"ali\",\"veli\"))\n",
        "\n",
        "print([1,2]+[3,4])\n",
        "print(list.__add__([1,2],[3,4]))"
      ],
      "metadata": {
        "colab": {
          "base_uri": "https://localhost:8080/"
        },
        "id": "XrrGDAYZ_RUk",
        "outputId": "217ad833-3f2f-4525-988f-f7c5c64e5865"
      },
      "id": "XrrGDAYZ_RUk",
      "execution_count": null,
      "outputs": [
        {
          "output_type": "stream",
          "name": "stdout",
          "text": [
            "8\n",
            "8\n",
            "aliveli\n",
            "aliveli\n",
            "[1, 2, 3, 4]\n",
            "[1, 2, 3, 4]\n"
          ]
        }
      ]
    },
    {
      "cell_type": "code",
      "source": [
        "class myList(list):\n",
        "  def __add__(self,other):\n",
        "    if len(self)!=len(other):\n",
        "      return \"Bu elemanlar toplanamaz.\"\n",
        "    else:\n",
        "      result=myList()\n",
        "      for i in range(len(self)):\n",
        "        result.append(self[i]+other[i])\n",
        "      return result\n",
        "\n",
        "list1=myList([1,2,3]) #list1 self'ine ait liste [1,2,3]\n",
        "list2=myList([4,5,6])\n",
        "list3=[1,2,3]\n",
        "\n",
        "print(list1+list2) # ilk yazdığın liste myList'e tanımlıysa class'ı döndürüyor.\n",
        "print(list1+[4,5,6])\n",
        "print(list2+list3)\n",
        "print()\n",
        "print(list3+list2)\n",
        "print([1,2,3]+[4,5,6])\n",
        "print([1,2,3]+list2)"
      ],
      "metadata": {
        "colab": {
          "base_uri": "https://localhost:8080/"
        },
        "id": "T9gw0PVLATd6",
        "outputId": "ff76ea8a-6afb-406e-d17d-1de38b74c4fe"
      },
      "id": "T9gw0PVLATd6",
      "execution_count": null,
      "outputs": [
        {
          "output_type": "stream",
          "name": "stdout",
          "text": [
            "[5, 7, 9]\n",
            "[5, 7, 9]\n",
            "[5, 7, 9]\n",
            "\n",
            "[1, 2, 3, 4, 5, 6]\n",
            "[1, 2, 3, 4, 5, 6]\n",
            "[1, 2, 3, 4, 5, 6]\n"
          ]
        }
      ]
    },
    {
      "cell_type": "code",
      "source": [
        "class futbolcu:\n",
        "  def __init__(self,isim,soyisim,yas):\n",
        "    self.isim=isim\n",
        "    self.soyisim=soyisim\n",
        "    self.yas=yas\n",
        "  def __eq__(self,other): #isim ve soyisimleri aynıysa futbolcular aynı olsun\n",
        "    if self.isim==other.isim and self.soyisim==other.soyisim:\n",
        "      return True\n",
        "    return False\n",
        "futbolcu1=futbolcu(\"ali\",\"veli\",23)\n",
        "futbolcu2=futbolcu(\"ali\",\"veli\",42)\n",
        "print(futbolcu1==futbolcu2)"
      ],
      "metadata": {
        "colab": {
          "base_uri": "https://localhost:8080/"
        },
        "id": "cQKsOmC7MD_3",
        "outputId": "89e73d3a-517c-41f0-ba94-a6c37f822cd7"
      },
      "id": "cQKsOmC7MD_3",
      "execution_count": null,
      "outputs": [
        {
          "output_type": "stream",
          "name": "stdout",
          "text": [
            "True\n"
          ]
        }
      ]
    },
    {
      "cell_type": "markdown",
      "source": [
        "**İç içe Fonksiyon Kullanımı**"
      ],
      "metadata": {
        "id": "lvXCQ3Vax-dx"
      },
      "id": "lvXCQ3Vax-dx"
    },
    {
      "cell_type": "code",
      "source": [
        "def outer():\n",
        "  print(\"Dış fonksiyon çalışıyor.\")\n",
        "  def inner():\n",
        "    print(\"İç fonksiyon çalışıyor.\")\n",
        "  print(\"Dış fonksiyon çalışıyor.\")\n",
        "\n",
        "outer()"
      ],
      "metadata": {
        "colab": {
          "base_uri": "https://localhost:8080/"
        },
        "id": "1zIpNoQQMeov",
        "outputId": "94e3fc3f-120c-4ebc-d675-4570bef060ba"
      },
      "id": "1zIpNoQQMeov",
      "execution_count": null,
      "outputs": [
        {
          "output_type": "stream",
          "name": "stdout",
          "text": [
            "Dış fonksiyon çalışıyor.\n",
            "Dış fonksiyon çalışıyor.\n"
          ]
        }
      ]
    },
    {
      "cell_type": "code",
      "source": [
        "def hesaplamalar(x):\n",
        "  def kare(a):\n",
        "    return a**2\n",
        "  def karekok(a):\n",
        "    return a**0.5\n",
        "  karekok(x)  #return döndürmediğin için çalışmaz\n",
        "\n",
        "print(hesaplamalar)"
      ],
      "metadata": {
        "colab": {
          "base_uri": "https://localhost:8080/"
        },
        "id": "UVPSp62GyfXr",
        "outputId": "caa51f9e-ef11-4f43-8114-9a1f26649884"
      },
      "id": "UVPSp62GyfXr",
      "execution_count": null,
      "outputs": [
        {
          "output_type": "stream",
          "name": "stdout",
          "text": [
            "<function hesaplamalar at 0x7b16ab349fc0>\n"
          ]
        }
      ]
    },
    {
      "cell_type": "code",
      "source": [
        "def hesaplamalar(x):\n",
        "  def kare(a):\n",
        "    return a**2\n",
        "  def karekok(a):\n",
        "    return a**0.5\n",
        "  kare=kare(x)\n",
        "  karekok=karekok(x)\n",
        "  return f\"Karesi: {kare}, kökü: {karekok:.2f}\"\n",
        "\n",
        "print(hesaplamalar(3))\n",
        "# print(kare(3)) #fonksiyona dışarıdan bu şekilde direk ulaşamayız."
      ],
      "metadata": {
        "colab": {
          "base_uri": "https://localhost:8080/"
        },
        "id": "jStwX8pvy3fJ",
        "outputId": "a0881a91-c5ad-4e6b-8cb5-1820ca0e856f"
      },
      "id": "jStwX8pvy3fJ",
      "execution_count": null,
      "outputs": [
        {
          "output_type": "stream",
          "name": "stdout",
          "text": [
            "Karesi: 9, kökü: 1.73\n"
          ]
        }
      ]
    },
    {
      "cell_type": "markdown",
      "source": [
        "**Fonksiyonlardan Fonksiyon Döndürme**"
      ],
      "metadata": {
        "id": "YVTupNNv1OAt"
      },
      "id": "YVTupNNv1OAt"
    },
    {
      "cell_type": "code",
      "source": [
        "def fonk(x):\n",
        "  return x*x\n",
        "a=fonk(3)\n",
        "b=fonk\n",
        "print(b(6))"
      ],
      "metadata": {
        "colab": {
          "base_uri": "https://localhost:8080/"
        },
        "id": "MODN4fr20wPm",
        "outputId": "d60db8f7-ef0d-4cda-fced-8d28cba65477"
      },
      "id": "MODN4fr20wPm",
      "execution_count": null,
      "outputs": [
        {
          "output_type": "stream",
          "name": "stdout",
          "text": [
            "36\n"
          ]
        }
      ]
    },
    {
      "cell_type": "code",
      "source": [
        "def islem_sec(islem):\n",
        "  def toplama(*args):\n",
        "    toplam=0\n",
        "    for arg in args:\n",
        "      toplam+=arg\n",
        "    return toplam\n",
        "  def carpma(*args):\n",
        "    carpim=1\n",
        "    for arg in args:\n",
        "      carpim*=arg\n",
        "    return carpim\n",
        "  if islem==\"toplama\":\n",
        "    return toplama #parantezler olursa o fonksiyonu çalıştırıp sonucunu döndürür\n",
        "  elif islem==\"carpma\":\n",
        "    return carpma\n",
        "\n",
        "top_fonk=islem_sec(\"toplama\")\n",
        "carpma_fonks=islem_sec(\"carpma\")\n",
        "\n",
        "print(top_fonk(1,2,3,4))"
      ],
      "metadata": {
        "colab": {
          "base_uri": "https://localhost:8080/"
        },
        "id": "ND1NdDmL2sj1",
        "outputId": "146bd0ee-7988-43ed-9560-3fdf034bdbf7"
      },
      "id": "ND1NdDmL2sj1",
      "execution_count": null,
      "outputs": [
        {
          "output_type": "stream",
          "name": "stdout",
          "text": [
            "10\n"
          ]
        }
      ]
    },
    {
      "cell_type": "code",
      "source": [
        "def kisi_sec(kisi):\n",
        "  def takim_sec(takim):\n",
        "    return f\"{kisi} {takim} takımını tutuyor.\"\n",
        "  return takim_sec\n",
        "\n",
        "bjk=kisi_sec(\"Gezzal\")\n",
        "gs=kisi_sec(\"Icardi\")\n",
        "\n",
        "print(bjk(\"Beşiktaş\"))\n",
        "print(gs(\"Galatasaray\"))"
      ],
      "metadata": {
        "colab": {
          "base_uri": "https://localhost:8080/"
        },
        "id": "3dgLwj2p3YjD",
        "outputId": "7a1e52f5-5eb4-4237-f38b-6237bfc94495"
      },
      "id": "3dgLwj2p3YjD",
      "execution_count": null,
      "outputs": [
        {
          "output_type": "stream",
          "name": "stdout",
          "text": [
            "Gezzal Beşiktaş takımını tutuyor.\n",
            "Icardi Galatasaray takımını tutuyor.\n"
          ]
        }
      ]
    },
    {
      "cell_type": "markdown",
      "source": [
        "**Fonksiyonlara Parametre Olarak Fonksiyon Göndermek**"
      ],
      "metadata": {
        "id": "yC1fpez-5sI5"
      },
      "id": "yC1fpez-5sI5"
    },
    {
      "cell_type": "code",
      "source": [
        "def topla(a,b):\n",
        "  return a+b\n",
        "def carpma(a,b):\n",
        "  return a*b\n",
        "def islem_yap(fonk,a,b):\n",
        "  return fonk(a,b)\n",
        "\n",
        "print(islem_yap(topla,5,3))"
      ],
      "metadata": {
        "colab": {
          "base_uri": "https://localhost:8080/"
        },
        "id": "laSpnSYI5rRB",
        "outputId": "1383dc43-208a-4be6-d52f-178df1826244"
      },
      "id": "laSpnSYI5rRB",
      "execution_count": null,
      "outputs": [
        {
          "output_type": "stream",
          "name": "stdout",
          "text": [
            "8\n"
          ]
        }
      ]
    },
    {
      "cell_type": "code",
      "source": [
        "liste1=[1,2,3,4]\n",
        "liste2=[1,2,6,9]\n",
        "\n",
        "def kare(x):\n",
        "  return x*x\n",
        "def kup(x):\n",
        "  return x**3\n",
        "def map_fonk(fonk,liste):\n",
        "  sonuc=[]\n",
        "  for i in liste:\n",
        "    sonuc.append(fonk(i))\n",
        "  return sonuc\n",
        "\n",
        "print(map_fonk(kare,liste1))"
      ],
      "metadata": {
        "colab": {
          "base_uri": "https://localhost:8080/"
        },
        "id": "2_pJ77lh6t9U",
        "outputId": "70f04fb9-61d6-4ae8-8471-3b743a6d34a5"
      },
      "id": "2_pJ77lh6t9U",
      "execution_count": null,
      "outputs": [
        {
          "output_type": "stream",
          "name": "stdout",
          "text": [
            "[1, 4, 9, 16]\n"
          ]
        }
      ]
    },
    {
      "cell_type": "markdown",
      "source": [
        "**Decorators**"
      ],
      "metadata": {
        "id": "FNYZgUA5AsnS"
      },
      "id": "FNYZgUA5AsnS"
    },
    {
      "cell_type": "code",
      "source": [
        "def decorator(fonk):\n",
        "  def wrapper():\n",
        "    print(\"önce\")\n",
        "    fonk()\n",
        "    print(\"sonra\")\n",
        "  return wrapper\n",
        "\n",
        "def fonksiyon():\n",
        "  print(\"Fonksiyon çalışıyor.\")\n",
        "\n",
        "fonksiyon2=decorator(fonksiyon) #fonksiyon2 wrapper oldu\n",
        "fonksiyon2()"
      ],
      "metadata": {
        "colab": {
          "base_uri": "https://localhost:8080/"
        },
        "id": "jlzZxMFMAtWN",
        "outputId": "b3d52c10-e66e-4d0f-a40f-b67a21e69ba8"
      },
      "id": "jlzZxMFMAtWN",
      "execution_count": null,
      "outputs": [
        {
          "output_type": "stream",
          "name": "stdout",
          "text": [
            "önce\n",
            "Fonksiyon çalışıyor.\n",
            "sonra\n"
          ]
        }
      ]
    },
    {
      "cell_type": "code",
      "source": [
        "def decorator(fonk):\n",
        "  def wrapper():\n",
        "    print(\"önce\")\n",
        "    fonk()\n",
        "    print(\"sonra\")\n",
        "  return wrapper\n",
        "\n",
        "@decorator #bu fonksiyonu al, decorator'a gönder\n",
        "def fonksiyon():\n",
        "  print(\"Fonksiyon çalışıyor.\")\n",
        "\n",
        "fonksiyon()"
      ],
      "metadata": {
        "colab": {
          "base_uri": "https://localhost:8080/"
        },
        "id": "s26HwKAjDZud",
        "outputId": "f83ff1a7-b9fe-4ce8-f5ce-fd0848aec520"
      },
      "id": "s26HwKAjDZud",
      "execution_count": null,
      "outputs": [
        {
          "output_type": "stream",
          "name": "stdout",
          "text": [
            "önce\n",
            "Fonksiyon çalışıyor.\n",
            "sonra\n"
          ]
        }
      ]
    },
    {
      "cell_type": "code",
      "source": [
        "import time\n",
        "\n",
        "def zaman(fonk):\n",
        "  def wrapper(*args,**kwargs):\n",
        "    baslangic=time.time()\n",
        "    fonk(*args,**kwargs)\n",
        "    bitis=time.time()\n",
        "    print(f\"İşlem {bitis-baslangic} saniye sürdü.\")\n",
        "  return wrapper\n",
        "\n",
        "@zaman #fonksiyonu ve parametreyi zaman'a gönderiyor.\n",
        "def kare(liste):\n",
        "  for i in liste:\n",
        "    return i*i\n",
        "\n",
        "@zaman\n",
        "def kup(liste):\n",
        "  for i in liste:\n",
        "    return i**3\n",
        "\n",
        "kare(range(1000,1500))"
      ],
      "metadata": {
        "colab": {
          "base_uri": "https://localhost:8080/"
        },
        "id": "N2v_5AQBDyfJ",
        "outputId": "2fd39e1d-5206-478a-809a-9428e3b2aee3"
      },
      "id": "N2v_5AQBDyfJ",
      "execution_count": null,
      "outputs": [
        {
          "output_type": "stream",
          "name": "stdout",
          "text": [
            "İşlem 1.430511474609375e-06 saniye sürdü.\n"
          ]
        }
      ]
    },
    {
      "cell_type": "markdown",
      "source": [
        "**PROPERTY, SETTER, DELETER DECORATOR**"
      ],
      "metadata": {
        "id": "3EL_XptDQI8y"
      },
      "id": "3EL_XptDQI8y"
    },
    {
      "cell_type": "code",
      "source": [
        "class kisi:\n",
        "  def __init__(self,ad,soyad):\n",
        "    self.ad=ad\n",
        "    self.soyad=soyad\n",
        "    self.adsoyad=ad+\" \"+soyad\n",
        "  def email(self):\n",
        "    return f\"{self.ad}.{self.soyad}@sirket.com\"\n",
        "\n",
        "kisi1=kisi(\"melih\",\"cankat\")\n",
        "kisi1.ad=\"ahmet\"\n",
        "\n",
        "print(kisi1.ad)\n",
        "print(kisi1.adsoyad) # ad'ı değiştirince değişmedi\n",
        "print(kisi1.email())"
      ],
      "metadata": {
        "colab": {
          "base_uri": "https://localhost:8080/"
        },
        "id": "fU0wOX6gPJi6",
        "outputId": "6f305efd-0559-4eff-9b30-6dedc4106a97"
      },
      "id": "fU0wOX6gPJi6",
      "execution_count": null,
      "outputs": [
        {
          "output_type": "stream",
          "name": "stdout",
          "text": [
            "ahmet\n",
            "melih cankat\n",
            "ahmet.cankat@sirket.com\n"
          ]
        }
      ]
    },
    {
      "cell_type": "code",
      "source": [
        "#bunu önlemek için tek tek ayrı fonksiyonlar tanımlıyoruz\n",
        "class kisi:\n",
        "  def __init__(self,ad,soyad):\n",
        "    self.ad=ad\n",
        "    self.soyad=soyad\n",
        "  def adsoyad(self):\n",
        "    return f\"{self.ad} {self.soyad}\"\n",
        "  def email(self):\n",
        "    return f\"{self.ad}.{self.soyad}@sirket.com\"\n",
        "\n",
        "kisi1=kisi(\"melih\",\"cankat\")\n",
        "kisi1.ad=\"ahmet\"\n",
        "\n",
        "print(kisi1.ad)\n",
        "print(kisi1.adsoyad()) #bu değişkeni kullandığın yerlere parantez eklemelisin\n",
        "#büyük ölçekli programlar için uygun değil\n",
        "print(kisi1.email())"
      ],
      "metadata": {
        "colab": {
          "base_uri": "https://localhost:8080/"
        },
        "id": "e47rJXOGSnza",
        "outputId": "4c5a9279-da58-4f22-ae41-5a7242d92436"
      },
      "id": "e47rJXOGSnza",
      "execution_count": null,
      "outputs": [
        {
          "output_type": "stream",
          "name": "stdout",
          "text": [
            "ahmet\n",
            "ahmet cankat\n",
            "ahmet.cankat@sirket.com\n"
          ]
        }
      ]
    },
    {
      "cell_type": "code",
      "source": [
        "#property\n",
        "class kisi:\n",
        "  def __init__(self,ad,soyad):\n",
        "    self.ad=ad\n",
        "    self.soyad=soyad\n",
        "  @property #metotlara özellik gibi yaklaşmayı sağlar\n",
        "  def adsoyad(self):\n",
        "    return f\"{self.ad} {self.soyad}\"\n",
        "  def email(self):\n",
        "    return f\"{self.ad}.{self.soyad}@sirket.com\"\n",
        "\n",
        "kisi1=kisi(\"melih\",\"cankat\")\n",
        "kisi1.ad=\"ahmet\"\n",
        "\n",
        "print(kisi1.ad)\n",
        "print(kisi1.adsoyad) #buraya parantez eklememize gerek kalmıyor\n",
        "print(kisi1.email())\n",
        "\n",
        "# kisi1.adsoyad=\"ali kısa\" #bu metotta burda problem çıkıyor çünkü bu bir metot"
      ],
      "metadata": {
        "colab": {
          "base_uri": "https://localhost:8080/"
        },
        "id": "18Hbrl_5TlWB",
        "outputId": "97828512-687f-47a7-bb10-a67317b1f3d5"
      },
      "id": "18Hbrl_5TlWB",
      "execution_count": null,
      "outputs": [
        {
          "output_type": "stream",
          "name": "stdout",
          "text": [
            "ahmet\n",
            "ahmet cankat\n",
            "ahmet.cankat@sirket.com\n"
          ]
        }
      ]
    },
    {
      "cell_type": "code",
      "source": [
        "#setter\n",
        "class kisi:\n",
        "  def __init__(self,ad,soyad):\n",
        "    self.ad=ad\n",
        "    self.soyad=soyad\n",
        "  @property\n",
        "  def adsoyad(self):\n",
        "    return f\"{self.ad} {self.soyad}\"\n",
        "  def email(self):\n",
        "    return f\"{self.ad}.{self.soyad}@sirket.com\"\n",
        "  @adsoyad.setter #atama yapmak için\n",
        "  def adsoyad(self,isim):\n",
        "    ad,soyad=isim.split(\" \")\n",
        "    self.ad=ad\n",
        "    self.soyad=soyad\n",
        "\n",
        "kisi1=kisi(\"melih\",\"cankat\")\n",
        "kisi1.ad=\"ahmet\"\n",
        "kisi1.adsoyad=\"ali kısa\" #artık yeni değer tanımlayabiliyoruz\n",
        "\n",
        "print(kisi1.ad)\n",
        "print(kisi1.adsoyad)\n",
        "print(kisi1.email())"
      ],
      "metadata": {
        "colab": {
          "base_uri": "https://localhost:8080/"
        },
        "id": "bqYuRHKzUvbv",
        "outputId": "a574c82f-11ba-43ce-b982-5fd4bf4f47cf"
      },
      "id": "bqYuRHKzUvbv",
      "execution_count": null,
      "outputs": [
        {
          "output_type": "stream",
          "name": "stdout",
          "text": [
            "ali\n",
            "ali kısa\n",
            "ali.kısa@sirket.com\n"
          ]
        }
      ]
    },
    {
      "cell_type": "code",
      "source": [
        "#deleter\n",
        "class kisi:\n",
        "  def __init__(self,ad,soyad):\n",
        "    self.ad=ad\n",
        "    self.soyad=soyad\n",
        "  @property\n",
        "  def adsoyad(self):\n",
        "    return f\"{self.ad} {self.soyad}\"\n",
        "  def email(self):\n",
        "    return f\"{self.ad}.{self.soyad}@sirket.com\"\n",
        "  @adsoyad.deleter #silmek için\n",
        "  def adsoyad(self):\n",
        "    self.ad=None\n",
        "    self.soyad=None\n",
        "\n",
        "kisi1=kisi(\"melih\",\"cankat\")\n",
        "del kisi1.adsoyad #artık del'i çalıştırabiliyoruz\n",
        "\n",
        "print(kisi1.ad)\n",
        "print(kisi1.adsoyad)\n",
        "print(kisi1.email())"
      ],
      "metadata": {
        "colab": {
          "base_uri": "https://localhost:8080/"
        },
        "id": "eLlZ7S_qWphq",
        "outputId": "0b4fb9b6-9c19-49bc-a97a-79aa107fbe3a"
      },
      "id": "eLlZ7S_qWphq",
      "execution_count": null,
      "outputs": [
        {
          "output_type": "stream",
          "name": "stdout",
          "text": [
            "None\n",
            "None None\n",
            "None.None@sirket.com\n"
          ]
        }
      ]
    },
    {
      "cell_type": "markdown",
      "source": [
        "**Lambda Fonksiyonları**"
      ],
      "metadata": {
        "id": "IBoGEZWgalQH"
      },
      "id": "IBoGEZWgalQH"
    },
    {
      "cell_type": "code",
      "source": [
        "kare=lambda x: x*x #parametre olarak x'i alıp x*x'i döndür\n",
        "print(kare(2))\n",
        "\n",
        "toplam=lambda x,y: x+y\n",
        "print(toplam(2,3))\n",
        "\n",
        "genel_toplam=lambda *args: sum(args)\n",
        "print(genel_toplam(4,5,6,7))\n",
        "\n",
        "print((lambda x,y,z: x*y+z)(2,3,4))"
      ],
      "metadata": {
        "colab": {
          "base_uri": "https://localhost:8080/"
        },
        "id": "FyVlcTbeakGW",
        "outputId": "5252e362-189e-42a0-82a0-f966d01e0ef3"
      },
      "id": "FyVlcTbeakGW",
      "execution_count": null,
      "outputs": [
        {
          "output_type": "stream",
          "name": "stdout",
          "text": [
            "4\n",
            "5\n",
            "22\n",
            "10\n"
          ]
        }
      ]
    },
    {
      "cell_type": "code",
      "source": [
        "liste=[(\"ali\",23),(\"veli\",19),(\"hakan\",32)]\n",
        "liste.sort() #1.bileşene göre sıralıyor\n",
        "print(liste)"
      ],
      "metadata": {
        "colab": {
          "base_uri": "https://localhost:8080/"
        },
        "id": "4JZPrlDHblwS",
        "outputId": "b8b4c142-6477-4578-e509-0bd592c5ace4"
      },
      "id": "4JZPrlDHblwS",
      "execution_count": null,
      "outputs": [
        {
          "output_type": "stream",
          "name": "stdout",
          "text": [
            "[('ali', 23), ('hakan', 32), ('veli', 19)]\n"
          ]
        }
      ]
    },
    {
      "cell_type": "code",
      "source": [
        "liste=[(\"ali\",23),(\"veli\",19),(\"hakan\",32)]\n",
        "liste.sort(key=lambda x: x[1]) # 2.bileşene göre sıralama\n",
        "print(liste)"
      ],
      "metadata": {
        "colab": {
          "base_uri": "https://localhost:8080/"
        },
        "id": "IPxYMtSzb602",
        "outputId": "33221da9-1a07-4098-cf78-2569bc83ceb4"
      },
      "id": "IPxYMtSzb602",
      "execution_count": null,
      "outputs": [
        {
          "output_type": "stream",
          "name": "stdout",
          "text": [
            "[('veli', 19), ('ali', 23), ('hakan', 32)]\n"
          ]
        }
      ]
    },
    {
      "cell_type": "markdown",
      "source": [
        "**Map Fonksiyonu**"
      ],
      "metadata": {
        "id": "W0-DldN-cog6"
      },
      "id": "W0-DldN-cog6"
    },
    {
      "cell_type": "code",
      "source": [
        "#map(fonksiyon,parametreler)\n",
        "liste=[1,2,3,4,5]\n",
        "def kare(x):\n",
        "  return x**2\n",
        "liste2=list(map(kare,liste)) #map ayrı bir obje. bunu istediğine çeviriyorsun\n",
        "print(liste2)"
      ],
      "metadata": {
        "colab": {
          "base_uri": "https://localhost:8080/"
        },
        "id": "nu6Hq6O1cpTC",
        "outputId": "819b271f-2417-4d99-ba54-48a08adeacac"
      },
      "id": "nu6Hq6O1cpTC",
      "execution_count": null,
      "outputs": [
        {
          "output_type": "stream",
          "name": "stdout",
          "text": [
            "[1, 4, 9, 16, 25]\n"
          ]
        }
      ]
    },
    {
      "cell_type": "code",
      "source": [
        "liste=[1,2,3,4,5]\n",
        "liste2=list(map(lambda x: x**2,liste))\n",
        "print(liste2)"
      ],
      "metadata": {
        "colab": {
          "base_uri": "https://localhost:8080/"
        },
        "id": "277wT1-XdVKK",
        "outputId": "b410bf25-a1f9-49f7-fd87-104a4976e2d4"
      },
      "id": "277wT1-XdVKK",
      "execution_count": null,
      "outputs": [
        {
          "output_type": "stream",
          "name": "stdout",
          "text": [
            "[1, 4, 9, 16, 25]\n"
          ]
        }
      ]
    },
    {
      "cell_type": "code",
      "source": [
        "liste1=[1,2,3,4,5]\n",
        "liste2=[10,11,12,13,14]\n",
        "print(list(map(lambda x,y: x+y, liste1, liste2)))"
      ],
      "metadata": {
        "colab": {
          "base_uri": "https://localhost:8080/"
        },
        "id": "bBlBxd8Pdlpb",
        "outputId": "ab52e58e-194f-423f-a76b-98b80cae0017"
      },
      "id": "bBlBxd8Pdlpb",
      "execution_count": null,
      "outputs": [
        {
          "output_type": "stream",
          "name": "stdout",
          "text": [
            "[11, 13, 15, 17, 19]\n"
          ]
        }
      ]
    },
    {
      "cell_type": "code",
      "source": [
        "products=[[\"Nike\",5000],[\"Puma\",3000],[\"Kinetix\",1500]]\n",
        "def discount(x):\n",
        "  product,price=x[0],x[1]\n",
        "  price*=0.9\n",
        "  return [product,price]\n",
        "print(list(map(discount,products)))"
      ],
      "metadata": {
        "colab": {
          "base_uri": "https://localhost:8080/"
        },
        "id": "PeoAcHfOe2ki",
        "outputId": "9fd9f42c-adf0-4ac8-fe95-73bfe8ea679a"
      },
      "id": "PeoAcHfOe2ki",
      "execution_count": null,
      "outputs": [
        {
          "output_type": "stream",
          "name": "stdout",
          "text": [
            "[['Nike', 4500.0], ['Puma', 2700.0], ['Kinetix', 1350.0]]\n"
          ]
        }
      ]
    },
    {
      "cell_type": "markdown",
      "source": [
        "**Filter Fonksiyonu**"
      ],
      "metadata": {
        "id": "GWiv7g1XgVD1"
      },
      "id": "GWiv7g1XgVD1"
    },
    {
      "cell_type": "code",
      "source": [
        "#filter(fonksiyon,parametreler)\n",
        "liste=[1,2,3,4,5,6,7,8]\n",
        "def cift_mi(x):\n",
        "  if x%2==0:\n",
        "    return True\n",
        "  return False\n",
        "\n",
        "ciftler=list(filter(cift_mi,liste))\n",
        "print(ciftler)"
      ],
      "metadata": {
        "colab": {
          "base_uri": "https://localhost:8080/"
        },
        "id": "rQjMsYgofHFa",
        "outputId": "f007ba87-b169-4802-a2b1-1b41316123a1"
      },
      "id": "rQjMsYgofHFa",
      "execution_count": null,
      "outputs": [
        {
          "output_type": "stream",
          "name": "stdout",
          "text": [
            "[2, 4, 6, 8]\n"
          ]
        }
      ]
    },
    {
      "cell_type": "code",
      "source": [
        "ciftler=list(filter(lambda x: x%2==0,liste))\n",
        "print(ciftler)"
      ],
      "metadata": {
        "colab": {
          "base_uri": "https://localhost:8080/"
        },
        "id": "4dJ9S9e1hvcD",
        "outputId": "64909c1c-d757-436d-f713-9043f3055ef1"
      },
      "id": "4dJ9S9e1hvcD",
      "execution_count": null,
      "outputs": [
        {
          "output_type": "stream",
          "name": "stdout",
          "text": [
            "[2, 4, 6, 8]\n"
          ]
        }
      ]
    },
    {
      "cell_type": "code",
      "source": [
        "liste=[1,2,(1,2),True,\"string\",\"elif\",{2,3}]\n",
        "stringler=list(filter(lambda x: isinstance(x,str),liste))\n",
        "print(stringler)"
      ],
      "metadata": {
        "colab": {
          "base_uri": "https://localhost:8080/"
        },
        "id": "AZRVESwEF60c",
        "outputId": "23cdc48d-584e-4cae-d7c3-0edc03ad895d"
      },
      "id": "AZRVESwEF60c",
      "execution_count": null,
      "outputs": [
        {
          "output_type": "stream",
          "name": "stdout",
          "text": [
            "['string', 'elif']\n"
          ]
        }
      ]
    },
    {
      "cell_type": "markdown",
      "source": [
        "**Reduce Fonksiyonu**"
      ],
      "metadata": {
        "id": "AFUml_pxGArk"
      },
      "id": "AFUml_pxGArk"
    },
    {
      "cell_type": "code",
      "source": [
        "# reduce(fonksiyon,liste)\n",
        "# bir değer döndürüyor\n",
        "from functools import reduce\n",
        "liste=[2,4,6,8]\n",
        "def toplama(x,y):\n",
        "  return x+y\n",
        "sonuc1=reduce(toplama,liste) # (((2+4)+6)+8)\n",
        "print(sonuc1)"
      ],
      "metadata": {
        "colab": {
          "base_uri": "https://localhost:8080/"
        },
        "id": "WQpAXw_tGcrr",
        "outputId": "56fbb125-670d-4f3d-beb1-9625ac9b7731"
      },
      "id": "WQpAXw_tGcrr",
      "execution_count": null,
      "outputs": [
        {
          "output_type": "stream",
          "name": "stdout",
          "text": [
            "20\n"
          ]
        }
      ]
    },
    {
      "cell_type": "code",
      "source": [
        "from functools import reduce\n",
        "liste=[2,4,6,8]\n",
        "sonuc1:print(reduce(lambda x,y: x+y, liste))"
      ],
      "metadata": {
        "colab": {
          "base_uri": "https://localhost:8080/"
        },
        "id": "vkzMlvspHJvv",
        "outputId": "1aca1efa-b9c7-4b58-f7c4-4df496303b32"
      },
      "id": "vkzMlvspHJvv",
      "execution_count": null,
      "outputs": [
        {
          "output_type": "stream",
          "name": "stdout",
          "text": [
            "20\n"
          ]
        }
      ]
    },
    {
      "cell_type": "code",
      "source": [
        "from functools import reduce\n",
        "def tas_makas_kagit(x,y):\n",
        "  kume={x,y}\n",
        "  if x==y:\n",
        "    return x\n",
        "  if kume=={\"taş\",\"makas\"}:\n",
        "    return \"taş\"\n",
        "  if kume=={\"taş\",\"kağıt\"}:\n",
        "    return \"kağıt\"\n",
        "  if kume=={\"makas\",\"kağıt\"}:\n",
        "    return \"makas\"\n",
        "liste=[\"taş\",\"makas\",\"kağıt\",\"taş\",\"makas\"]\n",
        "sonuc=reduce(tas_makas_kagit,liste)\n",
        "#ilk ikisi girdi taş kazandı. galip taşla 3.kağıt girdi kağıt kazandı,..\n",
        "print(sonuc)"
      ],
      "metadata": {
        "colab": {
          "base_uri": "https://localhost:8080/"
        },
        "id": "Al-PPgVnHTmG",
        "outputId": "34400fe4-0f34-4a7b-a5af-14de2d1563ca"
      },
      "id": "Al-PPgVnHTmG",
      "execution_count": null,
      "outputs": [
        {
          "output_type": "stream",
          "name": "stdout",
          "text": [
            "makas\n"
          ]
        }
      ]
    },
    {
      "cell_type": "markdown",
      "source": [
        "**Zip Fonksiyonu**"
      ],
      "metadata": {
        "id": "fAQDeOKaKC1s"
      },
      "id": "fAQDeOKaKC1s"
    },
    {
      "cell_type": "code",
      "source": [
        "# iki listenin elemanlarını sırayla birbiriyle eşleştiriyor.\n",
        "liste1=[1,2,3,4]\n",
        "liste2=tuple([\"a\",\"b\",\"c\",\"d\"])\n",
        "liste3=set(\"python\")\n",
        "liste4=set(zip(liste1,liste2,liste3)) #kümeye çevirme. istediğine çevirebilirsin\n",
        "print(liste4)"
      ],
      "metadata": {
        "colab": {
          "base_uri": "https://localhost:8080/"
        },
        "id": "9Llj38C3J-UB",
        "outputId": "97e18678-ce0f-4d90-aafa-11473e68e674"
      },
      "id": "9Llj38C3J-UB",
      "execution_count": null,
      "outputs": [
        {
          "output_type": "stream",
          "name": "stdout",
          "text": [
            "{(4, 'd', 't'), (2, 'b', 'y'), (1, 'a', 'p'), (3, 'c', 'h')}\n"
          ]
        }
      ]
    },
    {
      "cell_type": "markdown",
      "source": [
        "**Local, Enclosing, Global, Built-in Variables**"
      ],
      "metadata": {
        "id": "j38PY9RLLXPD"
      },
      "id": "j38PY9RLLXPD"
    },
    {
      "cell_type": "code",
      "source": [
        "# iç içe fonksiyonlar varsa en içteki local, bir üstündeki enclosing, bir üstündkei global\n",
        "x=\"global x\"\n",
        "def outer():\n",
        "  x=\"enclosing x\"\n",
        "  print(x)\n",
        "  def inner():\n",
        "    x=\"local x\"\n",
        "    print(x)\n",
        "  inner()\n",
        "outer()\n",
        "print(x)"
      ],
      "metadata": {
        "colab": {
          "base_uri": "https://localhost:8080/"
        },
        "id": "-ICnfnffLOpt",
        "outputId": "a2e4c1e9-e21d-450a-ae44-5bce26ecf544"
      },
      "id": "-ICnfnffLOpt",
      "execution_count": null,
      "outputs": [
        {
          "output_type": "stream",
          "name": "stdout",
          "text": [
            "enclosing x\n",
            "local x\n",
            "global x\n"
          ]
        }
      ]
    },
    {
      "cell_type": "code",
      "source": [
        "def outer():\n",
        "  x=\"enclosing x\"\n",
        "  print(x)\n",
        "  def inner():\n",
        "    print(x)\n",
        "  inner()\n",
        "outer()"
      ],
      "metadata": {
        "colab": {
          "base_uri": "https://localhost:8080/"
        },
        "id": "abR25nN3N89C",
        "outputId": "3c138931-d93e-4be2-d934-9eb81e3e2a6e"
      },
      "id": "abR25nN3N89C",
      "execution_count": null,
      "outputs": [
        {
          "output_type": "stream",
          "name": "stdout",
          "text": [
            "enclosing x\n",
            "enclosing x\n"
          ]
        }
      ]
    },
    {
      "cell_type": "code",
      "source": [],
      "metadata": {
        "colab": {
          "base_uri": "https://localhost:8080/"
        },
        "id": "4bgb7iflOH9t",
        "outputId": "ead061e2-612f-49fe-9b49-666d45e6e51b"
      },
      "id": "4bgb7iflOH9t",
      "execution_count": null,
      "outputs": [
        {
          "output_type": "stream",
          "name": "stdout",
          "text": [
            "global x\n",
            "local x\n",
            "global x\n"
          ]
        }
      ]
    },
    {
      "cell_type": "code",
      "source": [
        "#Fonksiyon içinde global x'le oynamak için\n",
        "x=3\n",
        "def fonk():\n",
        "  global x\n",
        "  x=5\n",
        "fonk()\n",
        "print(x)"
      ],
      "metadata": {
        "colab": {
          "base_uri": "https://localhost:8080/"
        },
        "id": "vjMQNfp8O1YM",
        "outputId": "02855a11-cbe9-49e7-839c-7de65429c577"
      },
      "id": "vjMQNfp8O1YM",
      "execution_count": null,
      "outputs": [
        {
          "output_type": "stream",
          "name": "stdout",
          "text": [
            "5\n"
          ]
        }
      ]
    },
    {
      "cell_type": "code",
      "source": [
        "#Fonksiyonu çalıştırmazsan yürütmez.\n",
        "x=3\n",
        "def fonk():\n",
        "  global x\n",
        "  x=5\n",
        "print(x)"
      ],
      "metadata": {
        "colab": {
          "base_uri": "https://localhost:8080/"
        },
        "id": "pSP8CWt9OMQ2",
        "outputId": "c8e2ceb5-17bf-489e-8c84-a27be08c2cd2"
      },
      "id": "pSP8CWt9OMQ2",
      "execution_count": null,
      "outputs": [
        {
          "output_type": "stream",
          "name": "stdout",
          "text": [
            "3\n"
          ]
        }
      ]
    },
    {
      "cell_type": "code",
      "source": [
        "x=\"global x\"\n",
        "def outer():\n",
        "  x=\"enclosing x\"\n",
        "  print(x)\n",
        "  def inner():\n",
        "    nonlocal x # bir önceki basamaktaki x'le oynamak için\n",
        "    x=5\n",
        "  inner()\n",
        "  print(x)\n",
        "outer()"
      ],
      "metadata": {
        "colab": {
          "base_uri": "https://localhost:8080/"
        },
        "id": "jDq1AHj0PGV5",
        "outputId": "9cd94329-f218-4a6d-8009-9d07ca7a9a3e"
      },
      "id": "jDq1AHj0PGV5",
      "execution_count": null,
      "outputs": [
        {
          "output_type": "stream",
          "name": "stdout",
          "text": [
            "enclosing x\n",
            "5\n"
          ]
        }
      ]
    },
    {
      "cell_type": "code",
      "source": [
        "# built-in değişkenler python'da gömülü değişkenler. sum, list,.."
      ],
      "metadata": {
        "id": "3bbEOkWpQSaU"
      },
      "id": "3bbEOkWpQSaU",
      "execution_count": null,
      "outputs": []
    },
    {
      "cell_type": "markdown",
      "source": [
        "**Iterators**"
      ],
      "metadata": {
        "id": "5WxiheYTQgF0"
      },
      "id": "5WxiheYTQgF0"
    },
    {
      "cell_type": "code",
      "source": [
        "# bir nesneyle kullanabileceğin metotları bulmak için:\n",
        "sayilar=[1,2,3]\n",
        "print(dir(sayilar))"
      ],
      "metadata": {
        "colab": {
          "base_uri": "https://localhost:8080/"
        },
        "id": "WrfhMT2fSyaP",
        "outputId": "16da4a98-31bb-44e6-be34-74d834cb7fc1"
      },
      "id": "WrfhMT2fSyaP",
      "execution_count": null,
      "outputs": [
        {
          "output_type": "stream",
          "name": "stdout",
          "text": [
            "['__add__', '__class__', '__class_getitem__', '__contains__', '__delattr__', '__delitem__', '__dir__', '__doc__', '__eq__', '__format__', '__ge__', '__getattribute__', '__getitem__', '__gt__', '__hash__', '__iadd__', '__imul__', '__init__', '__init_subclass__', '__iter__', '__le__', '__len__', '__lt__', '__mul__', '__ne__', '__new__', '__reduce__', '__reduce_ex__', '__repr__', '__reversed__', '__rmul__', '__setattr__', '__setitem__', '__sizeof__', '__str__', '__subclasshook__', 'append', 'clear', 'copy', 'count', 'extend', 'index', 'insert', 'pop', 'remove', 'reverse', 'sort']\n"
          ]
        }
      ]
    },
    {
      "cell_type": "code",
      "source": [
        "# önce 1, sonra 2, sonra 3. bu adımlamanın ismi iteration\n",
        "# iterable üzerinde adımlama yapılabilen demek\n",
        "# döngülerle kullanabileceğin her şey iterable\n",
        "# iterator adımlama işini yapan nesne. bütün adımları geziyor, nerde kaldığını da unutmuyor\n",
        "# __iter__() bir iterator geri döndürür.\n",
        "sayilar=[1,2,3]\n",
        "i_sayilar=sayilar.__iter__()\n",
        "# i_sayilar=iter(sayilar) #yukarıdakiyle aynı\n",
        "print(type(i_sayilar))\n",
        "print(i_sayilar)"
      ],
      "metadata": {
        "colab": {
          "base_uri": "https://localhost:8080/"
        },
        "id": "YvsTRNinQd76",
        "outputId": "aa41f629-5bd3-4a43-83ee-9215dc727417"
      },
      "id": "YvsTRNinQd76",
      "execution_count": null,
      "outputs": [
        {
          "output_type": "stream",
          "name": "stdout",
          "text": [
            "<class 'list_iterator'>\n",
            "<list_iterator object at 0x7b169cef7340>\n"
          ]
        }
      ]
    },
    {
      "cell_type": "code",
      "source": [
        "sayilar=[1,2,3]\n",
        "i_sayilar=iter(sayilar) #iter metotu bir iterator döndürüyor, hata gelene kadar next metotunu çağırıyor\n",
        "print(i_sayilar.__next__())\n",
        "print(next(i_sayilar)) #yukarıdakiyle aynı\n",
        "print(next(i_sayilar))"
      ],
      "metadata": {
        "colab": {
          "base_uri": "https://localhost:8080/"
        },
        "id": "L_F3pW2TYonK",
        "outputId": "ecb3d223-6103-4018-ecc6-54903c0d6117"
      },
      "id": "L_F3pW2TYonK",
      "execution_count": null,
      "outputs": [
        {
          "output_type": "stream",
          "name": "stdout",
          "text": [
            "1\n",
            "2\n",
            "3\n"
          ]
        }
      ]
    },
    {
      "cell_type": "code",
      "source": [
        "sayilar=[1,2,3]\n",
        "i_sayilar=iter(sayilar)\n",
        "while True:\n",
        "  try:\n",
        "    sayi=next(i_sayilar)\n",
        "    print(sayi)\n",
        "  except StopIteration:\n",
        "    break"
      ],
      "metadata": {
        "colab": {
          "base_uri": "https://localhost:8080/"
        },
        "id": "Zr9D9XQAZny5",
        "outputId": "94189606-3618-47b2-a4a0-715af279e66a"
      },
      "id": "Zr9D9XQAZny5",
      "execution_count": null,
      "outputs": [
        {
          "output_type": "stream",
          "name": "stdout",
          "text": [
            "1\n",
            "2\n",
            "3\n"
          ]
        }
      ]
    },
    {
      "cell_type": "code",
      "source": [
        "class new_range:\n",
        "  def __init__(self,start,end):\n",
        "    self.yazilacak=start\n",
        "    self.end=end\n",
        "  def __iter__(self):\n",
        "    return self\n",
        "  def __next__(self):\n",
        "    if self.yazilacak>=self.end:\n",
        "      raise StopIteration\n",
        "    deger=self.yazilacak\n",
        "    self.yazilacak+=1\n",
        "    return deger\n",
        "sayilar=new_range(10,15)\n",
        "for i in sayilar:\n",
        "  print(i)"
      ],
      "metadata": {
        "colab": {
          "base_uri": "https://localhost:8080/"
        },
        "id": "uPfPkoQOj7EL",
        "outputId": "a5d1e495-c6b6-4f3d-a8b0-9d85fd1f0a8c"
      },
      "id": "uPfPkoQOj7EL",
      "execution_count": null,
      "outputs": [
        {
          "output_type": "stream",
          "name": "stdout",
          "text": [
            "10\n",
            "11\n",
            "12\n",
            "13\n",
            "14\n"
          ]
        }
      ]
    },
    {
      "cell_type": "code",
      "source": [
        "# texti kelime kelime ayırabileceğimiz bir iteration oluşturma\n",
        "\n",
        "class Cumle:\n",
        "  def __init__(self,cumle):\n",
        "    self.cumle=cumle\n",
        "    self.index=0\n",
        "    self.kelimeler=self.cumle.split() #içine hiçbir şey koymazsam boşluktan bölüyor\n",
        "  def __iter__(self):\n",
        "    return self\n",
        "  def __next__(self):\n",
        "    if self.index>=len(self.kelimeler):\n",
        "      raise StopIteration\n",
        "    dondurulecek = self.index\n",
        "    self.index +=1\n",
        "    return self.kelimeler[dondurulecek] #return'den sonra bir şey yazamayacağımız için index'i önceden artırıp artmamış halini çağırıyoruz\n",
        "\n",
        "yenicumle=Cumle(\"Merhaba arkadaşlar hoşgeldiniz\")\n",
        "for kelime in yenicumle:\n",
        "  print(kelime)"
      ],
      "metadata": {
        "colab": {
          "base_uri": "https://localhost:8080/"
        },
        "id": "JbjQy2WZlpoR",
        "outputId": "0d658b94-83e0-4375-f8c6-5f4c33f20b6c"
      },
      "id": "JbjQy2WZlpoR",
      "execution_count": null,
      "outputs": [
        {
          "output_type": "stream",
          "name": "stdout",
          "text": [
            "Merhaba\n",
            "arkadaşlar\n",
            "hoşgeldiniz\n"
          ]
        }
      ]
    },
    {
      "cell_type": "markdown",
      "source": [],
      "metadata": {
        "id": "ZpgWfX7_oO8-"
      },
      "id": "ZpgWfX7_oO8-"
    }
  ],
  "metadata": {
    "kernelspec": {
      "display_name": "Python 3 (ipykernel)",
      "language": "python",
      "name": "python3"
    },
    "language_info": {
      "codemirror_mode": {
        "name": "ipython",
        "version": 3
      },
      "file_extension": ".py",
      "mimetype": "text/x-python",
      "name": "python",
      "nbconvert_exporter": "python",
      "pygments_lexer": "ipython3",
      "version": "3.11.5"
    },
    "colab": {
      "provenance": [],
      "include_colab_link": true
    }
  },
  "nbformat": 4,
  "nbformat_minor": 5
}